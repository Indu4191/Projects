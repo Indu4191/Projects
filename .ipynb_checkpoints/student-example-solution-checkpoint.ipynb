{
 "cells": [
  {
   "cell_type": "markdown",
   "metadata": {},
   "source": [
    "#### Pandas Data Manipulation ¶\n",
    "This lab is intentionally open-ended, and you're encouraged to answer your own inquisitivities about the dataset.\n",
    "\n",
    "##### Summary\n",
    "On next week's episode of the 'Are You Entertained?' podcast, we're going to be analyzing the latest generation's guilty pleasure- the music of the '00s. Our Data Scientists have poured through Billboard chart data to analyze what made a hit soar to the top of the charts, and how long they stayed there. Tune in next week for an awesome exploration of music and data as we continue to address an omnipresent question in the industry- why do we like what we like?\n",
    "You must provide, at least, a markdown cell explaining your key learnings about top hits: what are they, what common themes are there, is there a trend among artists (type of music)?\n",
    "\n",
    "##### Minimum Requirements\n",
    "At a minimum, I tried the following :\n",
    "- Use Pandas to read in your data\n",
    "- Rename column names where appropriate\n",
    "- Describe your data: check the value counts and descriptive statistics\n",
    "- Make use of groupby statements\n",
    "- Utilize Boolean sorting\n",
    "- Assess the validity of your data (missing data, distributions?)\n",
    "\n",
    "##### At a maximum,I strived:\n",
    "- Produce a blog-post ready description of your lab\n",
    "- State your assumptions about the data\n",
    "- Describe limitations\n",
    "- Consider how you can action this from a stakeholder perspective (radio, record label, fan)\n",
    "- Include visualization* (tomorrow will help)"
   ]
  },
  {
   "cell_type": "markdown",
   "metadata": {},
   "source": [
    "# Time it takes a song to get to the top.\n",
    "pd.to_datetime\n",
    "# Converting song time to an actual time (from a string)\n",
    "\n",
    "# Weekly Average Rating\n",
    "\n",
    "# How many weeks a song was number 1 \n",
    "\n",
    "# Get the correct genre for each artist\n",
    "\n",
    "# Word that appears most often in song Names\n",
    "\n",
    "# Entry level rating of Genre\n",
    "\n",
    "# Time to peak grouped by Genre\n",
    "\n",
    "# Visualize the lifecycle of a song (average)"
   ]
  },
  {
   "cell_type": "markdown",
   "metadata": {},
   "source": [
    "##### Use Pandas to read in your data"
   ]
  },
  {
   "cell_type": "code",
   "execution_count": 1,
   "metadata": {
    "collapsed": false
   },
   "outputs": [],
   "source": [
    "import numpy as np\n",
    "import pandas as pd\n",
    "\n",
    "music = pd.read_csv('./datasets/billboard.csv')"
   ]
  },
  {
   "cell_type": "code",
   "execution_count": 2,
   "metadata": {
    "collapsed": false
   },
   "outputs": [
    {
     "name": "stdout",
     "output_type": "stream",
     "text": [
      "317\n"
     ]
    }
   ],
   "source": [
    "print len(music)\n",
    "# This Dataset has 317 values"
   ]
  },
  {
   "cell_type": "code",
   "execution_count": 3,
   "metadata": {
    "collapsed": false
   },
   "outputs": [
    {
     "data": {
      "text/plain": [
       "year                 0\n",
       "artist.inverted      0\n",
       "track                0\n",
       "time                 0\n",
       "genre                0\n",
       "date.entered         0\n",
       "date.peaked          0\n",
       "x1st.week            0\n",
       "x2nd.week            5\n",
       "x3rd.week           10\n",
       "x4th.week           17\n",
       "x5th.week           25\n",
       "x6th.week           37\n",
       "x7th.week           48\n",
       "x8th.week           57\n",
       "x9th.week           64\n",
       "x10th.week          73\n",
       "x11th.week          81\n",
       "x12th.week          95\n",
       "x13th.week         107\n",
       "x14th.week         113\n",
       "x15th.week         120\n",
       "x16th.week         135\n",
       "x17th.week         140\n",
       "x18th.week         151\n",
       "x19th.week         161\n",
       "x20th.week         171\n",
       "x21st.week         252\n",
       "x22nd.week         262\n",
       "x23rd.week         269\n",
       "                  ... \n",
       "x47th.week         312\n",
       "x48th.week         313\n",
       "x49th.week         313\n",
       "x50th.week         313\n",
       "x51st.week         313\n",
       "x52nd.week         313\n",
       "x53rd.week         313\n",
       "x54th.week         315\n",
       "x55th.week         315\n",
       "x56th.week         315\n",
       "x57th.week         315\n",
       "x58th.week         315\n",
       "x59th.week         315\n",
       "x60th.week         315\n",
       "x61st.week         315\n",
       "x62nd.week         315\n",
       "x63rd.week         315\n",
       "x64th.week         315\n",
       "x65th.week         316\n",
       "x66th.week         317\n",
       "x67th.week         317\n",
       "x68th.week         317\n",
       "x69th.week         317\n",
       "x70th.week         317\n",
       "x71st.week         317\n",
       "x72nd.week         317\n",
       "x73rd.week         317\n",
       "x74th.week         317\n",
       "x75th.week         317\n",
       "x76th.week         317\n",
       "dtype: int64"
      ]
     },
     "execution_count": 3,
     "metadata": {},
     "output_type": "execute_result"
    }
   ],
   "source": [
    "# You can run this cell if you don't believe me\n",
    "music.isnull().sum()"
   ]
  },
  {
   "cell_type": "markdown",
   "metadata": {},
   "source": [
    "Given that there are 317 observations in this dataset and for weeks 66-76 there are 317 nulls, It is safe to assume that those weeks can be dropped because they contain no relevant information.  "
   ]
  },
  {
   "cell_type": "markdown",
   "metadata": {},
   "source": [
    "##### Rename column names where appropriate"
   ]
  },
  {
   "cell_type": "code",
   "execution_count": 4,
   "metadata": {
    "collapsed": false
   },
   "outputs": [],
   "source": [
    "# creating a list of week names that arn't crap\n",
    "week = 1\n",
    "week_list = []\n",
    "while week < 77:\n",
    "    week_num = 'week '+ str(week)\n",
    "    week_list.append(week_num)\n",
    "    week += 1"
   ]
  },
  {
   "cell_type": "markdown",
   "metadata": {},
   "source": [
    "Week_list is a list that states weeks as 'week x' to be appeneded to the silly way the variables are currently displayed.\n",
    "\n",
    "Other than the weeks, the other features are ... \n",
    "['year', 'artist.inverted', 'track', 'time', 'genre', 'date.entered', 'date.peaked']\n",
    "\n",
    "Im going to change them to...\n",
    "['year','artist','track', 'length','genre','first_apperence','peak_date']"
   ]
  },
  {
   "cell_type": "code",
   "execution_count": 5,
   "metadata": {
    "collapsed": false
   },
   "outputs": [],
   "source": [
    "names = ['year','artist','track', 'length','genre','first_apperence','highest_data']\n",
    "for item in week_list:\n",
    "    names.append(item)"
   ]
  },
  {
   "cell_type": "code",
   "execution_count": 6,
   "metadata": {
    "collapsed": false
   },
   "outputs": [
    {
     "ename": "SyntaxError",
     "evalue": "invalid syntax (<ipython-input-6-23f71aaa0b8a>, line 4)",
     "output_type": "error",
     "traceback": [
      "\u001b[0;36m  File \u001b[0;32m\"<ipython-input-6-23f71aaa0b8a>\"\u001b[0;36m, line \u001b[0;32m4\u001b[0m\n\u001b[0;31m    axis =1,inplace = True)\u001b[0m\n\u001b[0m       ^\u001b[0m\n\u001b[0;31mSyntaxError\u001b[0m\u001b[0;31m:\u001b[0m invalid syntax\n"
     ]
    }
   ],
   "source": [
    "# dropping all those columns with zero values in them.\n",
    "music.drop('week 66','week 67','week 68','week 69','week 70','week 71',\n",
    "           'week 72','week 73','week 74','week 74','week 75','week 76'\n",
    "           axis =1,inplace = True)"
   ]
  },
  {
   "cell_type": "code",
   "execution_count": null,
   "metadata": {
    "collapsed": false
   },
   "outputs": [],
   "source": [
    "# getting only the columns that correspond to weekly ratings\n",
    "music[music.columns[7:72]].count(axis=1)\n",
    "\n",
    "# Creates a dataframe column called 'weeks_active' that is the number of weeks the song is on the top 100\n",
    "music['weeks_active'] = music[music.columns[7:72]].count(axis=1)\n",
    "\n",
    "\n",
    "# there are 65 posible weeks a song can be active and df.count() returns the sum of null values"
   ]
  },
  {
   "cell_type": "markdown",
   "metadata": {},
   "source": [
    "##### Describe your data: check the value counts and descriptive statistics"
   ]
  },
  {
   "cell_type": "code",
   "execution_count": null,
   "metadata": {
    "collapsed": false
   },
   "outputs": [],
   "source": [
    "music.describe()\n",
    "#not exactly the most useful\n"
   ]
  },
  {
   "cell_type": "code",
   "execution_count": null,
   "metadata": {
    "collapsed": false
   },
   "outputs": [],
   "source": [
    "# I wonder What musicians were on the board the most in 2000?\n",
    "music['artist'].value_counts().head(10)"
   ]
  },
  {
   "cell_type": "code",
   "execution_count": null,
   "metadata": {
    "collapsed": true
   },
   "outputs": [],
   "source": [
    "#I am old"
   ]
  },
  {
   "cell_type": "code",
   "execution_count": null,
   "metadata": {
    "collapsed": false
   },
   "outputs": [],
   "source": [
    "# Wow, sure looks like Country and HipHop dominate the chart.  Lets see what distribution of songs that make it to\n",
    "# the top 100 are\n",
    "music['genre'].value_counts()"
   ]
  },
  {
   "cell_type": "markdown",
   "metadata": {},
   "source": []
  },
  {
   "cell_type": "code",
   "execution_count": null,
   "metadata": {
    "collapsed": true
   },
   "outputs": [],
   "source": [
    "# Getting a dataframe that will only be used for a plot\n",
    "plot_frame = music[['genre','weeks_active']]\n"
   ]
  },
  {
   "cell_type": "markdown",
   "metadata": {},
   "source": [
    "Going to try to plot average length on top 100 by genre.\n"
   ]
  },
  {
   "cell_type": "code",
   "execution_count": null,
   "metadata": {
    "collapsed": false
   },
   "outputs": [],
   "source": [
    "# Stacking distribution of of songs lifes grouped by genre(color) \n",
    "import matplotlib.pyplot as plt\n",
    "import seaborn as sns\n",
    "\n",
    "genres = ['Rock','Country','Rap','R&B']\n",
    "\n",
    "\n",
    "for m_type in genres:\n",
    "    sub_df = plot_frame[plot_frame['genre']== m_type]\n",
    "    sns.distplot(sub_df['weeks_active'])\n",
    "plt.show()"
   ]
  },
  {
   "cell_type": "markdown",
   "metadata": {},
   "source": [
    "- Green = Country\n",
    "- Blue = Rock\n",
    "- Red = Rap\n",
    "- Purple = R&B\n",
    "\n"
   ]
  },
  {
   "cell_type": "markdown",
   "metadata": {},
   "source": [
    "##### Addressing* Validity of data"
   ]
  },
  {
   "cell_type": "code",
   "execution_count": null,
   "metadata": {
    "collapsed": false
   },
   "outputs": [],
   "source": [
    "# Making a DF copy where all the Nulls are filled with 0's\n",
    "music2 = music.fillna(value = 0)\n"
   ]
  },
  {
   "cell_type": "code",
   "execution_count": null,
   "metadata": {
    "collapsed": false
   },
   "outputs": [],
   "source": [
    "# Engineered column displaying a songs average weekly rating.\n",
    "music['avg_weekly_rating'] = music2[music2.columns[7:73]].sum(axis =1)/music2['weeks_active']"
   ]
  },
  {
   "cell_type": "raw",
   "metadata": {
    "collapsed": false
   },
   "source": [
    "# Before I continue. lets check out the average_weekly rating grouped by Genre\n",
    "music.groupby(['genre'])['avg_weekly_rating'].mean()"
   ]
  },
  {
   "cell_type": "code",
   "execution_count": null,
   "metadata": {
    "collapsed": false
   },
   "outputs": [],
   "source": [
    "#music['median_weekly_rating'] = \n",
    "music['median_weekly_rating'] = music[music.columns[7:73]].median(axis =1)\n",
    "top['day_on_chart'] = "
   ]
  },
  {
   "cell_type": "code",
   "execution_count": null,
   "metadata": {
    "collapsed": false
   },
   "outputs": [],
   "source": [
    "# Plotting the weekly mean rating by weeks active.  Color is genre\n",
    "sns.lmplot(x = 'weeks_active',y ='avg_weekly_rating', hue = 'genre', data = music, fit_reg=False)"
   ]
  },
  {
   "cell_type": "code",
   "execution_count": null,
   "metadata": {
    "collapsed": false
   },
   "outputs": [],
   "source": [
    "# Plotting the median rating as well so we can see if the datas medians and means are vastly different.\n",
    "sns.lmplot(x='weeks_active', y='median_weekly_rating', hue = 'genre', data = music, fit_reg=False)"
   ]
  },
  {
   "cell_type": "markdown",
   "metadata": {},
   "source": [
    "##### Stakeholder Insights\n",
    "As clear from the visualizations, 20 weeks active seems to be where alot of songs hover.  A goal by a record label to have a song stay in the top 100 for more than 20 weeks would be beneficial as songs that maintain activity longer than 20 weeks on average recieve better ratings.  \n",
    "\n",
    "##### Yearly Insights\n",
    "Rock dominates those songs that maintain long lifes on the top 100 and coincidentally are also those with the best weekly ratings.\n",
    "\n",
    "##### idk\n",
    "While Rock music seems to have the most songs appear within the top 100, longest lifestyle and average weekly rating, no rock group appears in the top 10 most frequent artists.\n",
    "\n",
    "##### Data Limitations\n",
    "It would be nice to have additional years of information."
   ]
  },
  {
   "cell_type": "markdown",
   "metadata": {},
   "source": [
    "going to want a DF for this where\n",
    "\n",
    "DF is called the song name\n",
    "Column 1 = Week Number\n",
    "Column 2 = Chart Rating"
   ]
  },
  {
   "cell_type": "markdown",
   "metadata": {},
   "source": [
    "Calling the function below will return a chart of any songs life trend.  This is case sensitive so make sure your song is typed exactly as it appears in the dataframe.\n",
    "\n",
    "There is an example below"
   ]
  },
  {
   "cell_type": "code",
   "execution_count": null,
   "metadata": {
    "collapsed": true
   },
   "outputs": [],
   "source": [
    "def song_life(title):\n",
    "    #Grabbing the column i want to plot (this shit is stupid)\n",
    "    samp = music[music['track'] == title][music[music['track'] == title].columns[7:72]]\n",
    "    \n",
    "    #Dropping null values\n",
    "    samp.dropna(axis=1, inplace = True)\n",
    "    \n",
    "    #Transposing the matrix\n",
    "    samp_t = samp.transpose()\n",
    "    \n",
    "    #Reset index twice to get a collumn where week is listed as an int value for plotting\n",
    "    samp_t.reset_index(inplace = True)\n",
    "    samp_t.reset_index(inplace = True)\n",
    "    \n",
    "    #Renaming the columns because I\"M BATMAN!\n",
    "    samp_t.columns = ['Week','numbered_week','Rating']\n",
    "    \n",
    "    #Plotting dat shit#\n",
    "    plt.plot((samp_t['Week']+1),samp_t['Rating'])\n",
    "    plt.xlabel('Weeks in Top 100')\n",
    "    plt.ylabel('Weekly Rating')\n",
    "    plt.gca().invert_yaxis()\n",
    "\n"
   ]
  },
  {
   "cell_type": "code",
   "execution_count": null,
   "metadata": {
    "collapsed": false
   },
   "outputs": [],
   "source": [
    "song_life('Kryptonite')"
   ]
  },
  {
   "cell_type": "code",
   "execution_count": null,
   "metadata": {
    "collapsed": false
   },
   "outputs": [],
   "source": [
    "pwd"
   ]
  },
  {
   "cell_type": "code",
   "execution_count": null,
   "metadata": {
    "collapsed": true
   },
   "outputs": [],
   "source": []
  }
 ],
 "metadata": {
  "anaconda-cloud": {},
  "kernelspec": {
   "display_name": "Python 2",
   "language": "python",
   "name": "python2"
  },
  "language_info": {
   "codemirror_mode": {
    "name": "ipython",
    "version": 2
   },
   "file_extension": ".py",
   "mimetype": "text/x-python",
   "name": "python",
   "nbconvert_exporter": "python",
   "pygments_lexer": "ipython2",
   "version": "2.7.13"
  }
 },
 "nbformat": 4,
 "nbformat_minor": 1
}
