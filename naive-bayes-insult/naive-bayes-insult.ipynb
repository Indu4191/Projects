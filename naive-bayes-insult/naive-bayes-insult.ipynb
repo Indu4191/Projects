{
 "cells": [
  {
   "cell_type": "markdown",
   "metadata": {
    "deletable": true,
    "editable": true
   },
   "source": [
    "# Naive Bayes Insults Lab\n",
    "\n",
    "Author: Indraja Bandla\n",
    "\n",
    "In this [Kaggle dataset](https://www.kaggle.com/c/detecting-insults-in-social-commentary), we will be looking at labeled comments that look something like this:\n",
    "\n",
    "\"You're all upset, defending this hipster band...and WE'RE the douches for reading the news and discussing it?  Put down the PBR, throw away the trucker hat, shave off that silly shadow-beard, put down your \"99%er\" sign, and get a job, ION.\"\n",
    "\n",
    "credits :Moon Master ,Insult Connoisseur\n",
    "\n",
    "Fair warning, the content is fairly provacative. However, this type of problem is very common in the continuum of comment threads throughout the web.  You can also use this type of pipeline to build custom sentiment features for other content-specific domains."
   ]
  },
  {
   "cell_type": "code",
   "execution_count": 223,
   "metadata": {
    "collapsed": false,
    "deletable": true,
    "editable": true
   },
   "outputs": [],
   "source": [
    "import pandas as pd, seaborn as sns, numpy as np, matplotlib.pyplot as plt\n",
    "\n",
    "from sklearn.feature_extraction.text import CountVectorizer, TfidfTransformer, TfidfVectorizer \n",
    "from sklearn.feature_extraction.text import TfidfTransformer\n",
    "from sklearn.feature_extraction.text import TfidfVectorizer\n",
    "from sklearn.model_selection import learning_curve\n",
    "from sklearn.model_selection import train_test_split, cross_val_score, ShuffleSplit\n",
    "from sklearn.metrics import classification_report\n",
    "from sklearn.naive_bayes import MultinomialNB, BernoulliNB, GaussianNB\n",
    "from sklearn.linear_model import LogisticRegression\n",
    "\n",
    "from sklearn.pipeline import Pipeline\n",
    "\n",
    "%matplotlib inline\n",
    "\n",
    "sns.set_style(\"darkgrid\")"
   ]
  },
  {
   "cell_type": "code",
   "execution_count": 6,
   "metadata": {
    "collapsed": false,
    "deletable": true,
    "editable": true
   },
   "outputs": [],
   "source": [
    "insults_df = pd.read_csv(\"datasets/train.csv\", encoding=\"utf-8\")\n",
    "# insults_df_test = pd.read_csv(\"assets/datasets/test.csv\", encoding=\"utf-8\")"
   ]
  },
  {
   "cell_type": "code",
   "execution_count": 8,
   "metadata": {
    "collapsed": false,
    "deletable": true,
    "editable": true
   },
   "outputs": [
    {
     "name": "stdout",
     "output_type": "stream",
     "text": [
      "<class 'pandas.core.frame.DataFrame'>\n",
      "RangeIndex: 3947 entries, 0 to 3946\n",
      "Data columns (total 3 columns):\n",
      "Insult     3947 non-null int64\n",
      "Date       3229 non-null object\n",
      "Comment    3947 non-null object\n",
      "dtypes: int64(1), object(2)\n",
      "memory usage: 61.7+ KB\n"
     ]
    }
   ],
   "source": [
    "insults_df.info()"
   ]
  },
  {
   "cell_type": "markdown",
   "metadata": {
    "deletable": true,
    "editable": true
   },
   "source": [
    "*There are a variety of expletives observed throughout this dataset. This activity is strictly educational. Please exercise critical thinking.*"
   ]
  },
  {
   "cell_type": "code",
   "execution_count": 9,
   "metadata": {
    "collapsed": false,
    "deletable": true,
    "editable": true
   },
   "outputs": [
    {
     "data": {
      "text/html": [
       "<div>\n",
       "<table border=\"1\" class=\"dataframe\">\n",
       "  <thead>\n",
       "    <tr style=\"text-align: right;\">\n",
       "      <th></th>\n",
       "      <th>Insult</th>\n",
       "      <th>Date</th>\n",
       "      <th>Comment</th>\n",
       "    </tr>\n",
       "  </thead>\n",
       "  <tbody>\n",
       "    <tr>\n",
       "      <th>0</th>\n",
       "      <td>1</td>\n",
       "      <td>20120618192155Z</td>\n",
       "      <td>\"You fuck your dad.\"</td>\n",
       "    </tr>\n",
       "    <tr>\n",
       "      <th>1</th>\n",
       "      <td>0</td>\n",
       "      <td>20120528192215Z</td>\n",
       "      <td>\"i really don't understand your point.\\xa0 It ...</td>\n",
       "    </tr>\n",
       "    <tr>\n",
       "      <th>2</th>\n",
       "      <td>0</td>\n",
       "      <td>NaN</td>\n",
       "      <td>\"A\\\\xc2\\\\xa0majority of Canadians can and has ...</td>\n",
       "    </tr>\n",
       "    <tr>\n",
       "      <th>3</th>\n",
       "      <td>0</td>\n",
       "      <td>NaN</td>\n",
       "      <td>\"listen if you dont wanna get married to a man...</td>\n",
       "    </tr>\n",
       "    <tr>\n",
       "      <th>4</th>\n",
       "      <td>0</td>\n",
       "      <td>20120619094753Z</td>\n",
       "      <td>\"C\\xe1c b\\u1ea1n xu\\u1ed1ng \\u0111\\u01b0\\u1edd...</td>\n",
       "    </tr>\n",
       "  </tbody>\n",
       "</table>\n",
       "</div>"
      ],
      "text/plain": [
       "   Insult             Date                                            Comment\n",
       "0       1  20120618192155Z                               \"You fuck your dad.\"\n",
       "1       0  20120528192215Z  \"i really don't understand your point.\\xa0 It ...\n",
       "2       0              NaN  \"A\\\\xc2\\\\xa0majority of Canadians can and has ...\n",
       "3       0              NaN  \"listen if you dont wanna get married to a man...\n",
       "4       0  20120619094753Z  \"C\\xe1c b\\u1ea1n xu\\u1ed1ng \\u0111\\u01b0\\u1edd..."
      ]
     },
     "execution_count": 9,
     "metadata": {},
     "output_type": "execute_result"
    }
   ],
   "source": [
    "insults_df.head()"
   ]
  },
  {
   "cell_type": "code",
   "execution_count": 7,
   "metadata": {
    "collapsed": false,
    "deletable": true,
    "editable": true
   },
   "outputs": [
    {
     "data": {
      "text/html": [
       "<div>\n",
       "<table border=\"1\" class=\"dataframe\">\n",
       "  <thead>\n",
       "    <tr style=\"text-align: right;\">\n",
       "      <th></th>\n",
       "      <th>Insult</th>\n",
       "      <th>Date</th>\n",
       "      <th>Comment</th>\n",
       "    </tr>\n",
       "  </thead>\n",
       "  <tbody>\n",
       "    <tr>\n",
       "      <th>2937</th>\n",
       "      <td>0</td>\n",
       "      <td>20120610052534Z</td>\n",
       "      <td>\"Fuck\"</td>\n",
       "    </tr>\n",
       "    <tr>\n",
       "      <th>3112</th>\n",
       "      <td>0</td>\n",
       "      <td>20120618221322Z</td>\n",
       "      <td>\"Shit\"</td>\n",
       "    </tr>\n",
       "  </tbody>\n",
       "</table>\n",
       "</div>"
      ],
      "text/plain": [
       "      Insult             Date Comment\n",
       "2937       0  20120610052534Z  \"Fuck\"\n",
       "3112       0  20120618221322Z  \"Shit\""
      ]
     },
     "execution_count": 7,
     "metadata": {},
     "output_type": "execute_result"
    }
   ],
   "source": [
    "mask = insults_df['Comment'].map(lambda text: len(text) == 6)\n",
    "insults_df[mask]"
   ]
  },
  {
   "cell_type": "markdown",
   "metadata": {
    "deletable": true,
    "editable": true
   },
   "source": [
    "### 1. Data exploration\n",
    "\n",
    "#### 1.A. Explore a list of comment words that occur more than 50x\n",
    "Plot a histogram of some kind might be helpful."
   ]
  },
  {
   "cell_type": "code",
   "execution_count": 180,
   "metadata": {
    "collapsed": false,
    "deletable": true,
    "editable": true,
    "scrolled": true
   },
   "outputs": [
    {
     "data": {
      "text/plain": [
       "<3947x16469 sparse matrix of type '<type 'numpy.int64'>'\n",
       "\twith 100269 stored elements in Compressed Sparse Row format>"
      ]
     },
     "execution_count": 180,
     "metadata": {},
     "output_type": "execute_result"
    }
   ],
   "source": [
    "# Let's use the CountVectorizer to count words for us\n",
    "cvt      =  CountVectorizer(strip_accents='unicode', ngram_range=(1,1))\n",
    "X_all    =  cvt.fit_transform(insults_df['Comment'])\n",
    "columns  =  np.array(cvt.get_feature_names())          # ndarray (for indexing below)\n",
    "\n",
    "# note this is a large sparse matrix. \n",
    "#    - rows are insults, columns are words \n",
    "X_all"
   ]
  },
  {
   "cell_type": "code",
   "execution_count": 181,
   "metadata": {
    "collapsed": false
   },
   "outputs": [
    {
     "name": "stdout",
     "output_type": "stream",
     "text": [
      "(3947, 16469)\n",
      "Requires 65003143 ints to do a .toarray()!\n"
     ]
    }
   ],
   "source": [
    "# Converting X_all toarray() may use too much memory\n",
    "print X_all.shape\n",
    "print \"Requires {} ints to do a .toarray()!\".format(X_all.shape[0] * X_all.shape[1])\n",
    "\n",
    "# x_df     =  pd.DataFrame(X_all.toarray(), columns=columns)\n",
    "# tf_df    =  pd.DataFrame(x_df.sum(), columns=[\"freq\"])\n",
    "# tf_df.sort_values(\"freq\", ascending=False).head(10)"
   ]
  },
  {
   "cell_type": "code",
   "execution_count": 182,
   "metadata": {
    "collapsed": false
   },
   "outputs": [
    {
     "data": {
      "text/plain": [
       "the     4750\n",
       "you     3953\n",
       "to      3238\n",
       "and     2771\n",
       "of      2232\n",
       "is      1701\n",
       "that    1678\n",
       "are     1559\n",
       "it      1545\n",
       "in      1528\n",
       "your    1270\n",
       "xa0     1223\n",
       "for     1064\n",
       "on       920\n",
       "have     885\n",
       "not      850\n",
       "they     772\n",
       "be       764\n",
       "this     725\n",
       "he       722\n",
       "dtype: int64"
      ]
     },
     "execution_count": 182,
     "metadata": {},
     "output_type": "execute_result"
    }
   ],
   "source": [
    "# So .. we'll use np.sum() to convert it directly from the sparse matrix!\n",
    "# This is enormously more memory-efficient ...\n",
    "#   It only requires one int per column since summing across columns is the total word count.\n",
    "\n",
    "def get_freq_words(sparse_counts, columns):\n",
    "    # X_all is a sparse matrix, so sum() returns a 'matrix' datatype ...\n",
    "    #   which we then convert into a 1-D ndarray for sorting\n",
    "    word_counts = np.asarray(X_all.sum(axis=0)).reshape(-1)\n",
    "\n",
    "    # argsort() returns smallest first, so we reverse the result\n",
    "    largest_count_indices = word_counts.argsort()[::-1]\n",
    "\n",
    "    # pretty-print the results! Remember to always ask whether they make sense ...\n",
    "    freq_words = pd.Series(word_counts[largest_count_indices], \n",
    "                           index=columns[largest_count_indices])\n",
    "\n",
    "    return freq_words\n",
    "\n",
    "\n",
    "freq_words = get_freq_words(X_all, columns)\n",
    "freq_words[:20]"
   ]
  },
  {
   "cell_type": "markdown",
   "metadata": {
    "deletable": true,
    "editable": true
   },
   "source": [
    "#### 1.B. Investigate histogram of counts"
   ]
  },
  {
   "cell_type": "code",
   "execution_count": 184,
   "metadata": {
    "collapsed": false,
    "deletable": true,
    "editable": true
   },
   "outputs": [
    {
     "data": {
      "image/png": "[encoded data removed]",
      "text/plain": [
       "<matplotlib.figure.Figure at 0x10770730>"
      ]
     },
     "metadata": {},
     "output_type": "display_data"
    }
   ],
   "source": [
    "from sklearn.preprocessing import StandardScaler, minmax_scale\n",
    "\n",
    "def hist_counts(word_counts):\n",
    "    hist_counts = pd.Series(minmax_scale(word_counts), \n",
    "                            index=word_counts.index)\n",
    "    \n",
    "    # Overall graph is hard to understand, so let's break it into three graphs\n",
    "    fig, axes = plt.subplots(nrows=1, ncols=3, figsize=(12,6))\n",
    "    \n",
    "    hist_counts.plot(kind=\"hist\", bins=50, ax=axes[0], title=\"Histogram - All\")\n",
    "    \n",
    "    # There are a lot of really common tokens within 10% -- filter them out\n",
    "    hist_counts[hist_counts > .1].plot(kind=\"hist\", bins=50, ax=axes[1], title=\"Histogram - Counts > .1\")\n",
    "    \n",
    "    # look at the range of extreme commons that seem to exist below .01\n",
    "    hist_counts[hist_counts < .01].plot(kind=\"hist\", ax=axes[2], title=\"Histogram - Counts < .01\")\n",
    "    \n",
    "hist_counts(freq_words)"
   ]
  },
  {
   "cell_type": "markdown",
   "metadata": {
    "deletable": true,
    "editable": true
   },
   "source": [
    "#### 1.C. Try it again with stopword removal "
   ]
  },
  {
   "cell_type": "code",
   "execution_count": 185,
   "metadata": {
    "collapsed": false,
    "deletable": true,
    "editable": true
   },
   "outputs": [
    {
     "name": "stdout",
     "output_type": "stream",
     "text": [
      "xa0       1223\n",
      "like       718\n",
      "xc2        615\n",
      "just       557\n",
      "don        436\n",
      "people     419\n",
      "know       328\n",
      "think      302\n",
      "fuck       242\n",
      "x80        224\n",
      "dtype: int64\n"
     ]
    },
    {
     "data": {
      "image/png": "[encoded data removed]",
      "text/plain": [
       "<matplotlib.figure.Figure at 0x18d7e0f0>"
      ]
     },
     "metadata": {},
     "output_type": "display_data"
    }
   ],
   "source": [
    "cvt      =  CountVectorizer(strip_accents='unicode', stop_words=\"english\", ngram_range=(1,1))\n",
    "X_all    =  cvt.fit_transform(insults_df['Comment'])\n",
    "columns  =  np.array(cvt.get_feature_names())\n",
    "\n",
    "freq_words = get_freq_words(X_all, columns)\n",
    "\n",
    "print(freq_words[:10])\n",
    "hist_counts(freq_words)"
   ]
  },
  {
   "cell_type": "code",
   "execution_count": 186,
   "metadata": {
    "collapsed": false,
    "deletable": true,
    "editable": true
   },
   "outputs": [
    {
     "data": {
      "text/plain": [
       "1141.291000000072"
      ]
     },
     "execution_count": 186,
     "metadata": {},
     "output_type": "execute_result"
    }
   ],
   "source": [
    "# Checking range between .99 - .99999 -- there seem to be lots of words there\n",
    "freq_words.quantile(.99999)"
   ]
  },
  {
   "cell_type": "code",
   "execution_count": 187,
   "metadata": {
    "collapsed": false,
    "deletable": true,
    "editable": true
   },
   "outputs": [
    {
     "data": {
      "text/plain": [
       "got           150\n",
       "shit          148\n",
       "idiot         144\n",
       "better        137\n",
       "life          133\n",
       "look          129\n",
       "gay           125\n",
       "does          125\n",
       "ll            124\n",
       "years         118\n",
       "said          118\n",
       "money         115\n",
       "come          108\n",
       "bitch         108\n",
       "white         106\n",
       "day           104\n",
       "big           100\n",
       "year          100\n",
       "lol           100\n",
       "stop           98\n",
       "let            95\n",
       "post           94\n",
       "ni             92\n",
       "didn           92\n",
       "love           90\n",
       "doesn          90\n",
       "thing          89\n",
       "things         89\n",
       "feel           89\n",
       "dumb           88\n",
       "             ... \n",
       "crime          10\n",
       "events         10\n",
       "hide           10\n",
       "offensive      10\n",
       "claiming       10\n",
       "hi             10\n",
       "enemies        10\n",
       "hasn           10\n",
       "te             10\n",
       "core           10\n",
       "episode        10\n",
       "crack          10\n",
       "sh             10\n",
       "corporate      10\n",
       "penalty        10\n",
       "haters         10\n",
       "interview      10\n",
       "source         10\n",
       "held           10\n",
       "attempt        10\n",
       "attacks        10\n",
       "nasty          10\n",
       "banned         10\n",
       "politician     10\n",
       "ideas          10\n",
       "sell           10\n",
       "safe           10\n",
       "learned        10\n",
       "qb             10\n",
       "mail           10\n",
       "dtype: int64"
      ]
     },
     "execution_count": 187,
     "metadata": {},
     "output_type": "execute_result"
    }
   ],
   "source": [
    "# find the %1, and %10 threshold for masking\n",
    "freq_words[(freq_words >= 10) & (freq_words <= 150)]"
   ]
  },
  {
   "cell_type": "markdown",
   "metadata": {
    "deletable": true,
    "editable": true
   },
   "source": [
    "#### 1.D. Explore ngrams between 2 and 4\n",
    "Display the top 75 ngrams with frequencies."
   ]
  },
  {
   "cell_type": "code",
   "execution_count": 188,
   "metadata": {
    "collapsed": false,
    "deletable": true,
    "editable": true,
    "scrolled": false
   },
   "outputs": [
    {
     "data": {
      "text/plain": [
       "xc2 xa0                             379\n",
       "xe2 x80                             209\n",
       "xa0 xa0                             144\n",
       "http shar                            68\n",
       "shar es                              68\n",
       "http shar es                         68\n",
       "trade trade                          63\n",
       "trade trade trade                    62\n",
       "trade trade trade trade              61\n",
       "u2026 u2026                          59\n",
       "xa0 xa0 xa0                          57\n",
       "u2026 u2026 u2026                    52\n",
       "xa0 xa0 xa0 xa0                      49\n",
       "xa0 xc2                              46\n",
       "xc2 xa0 xc2                          46\n",
       "u2026 u2026 u2026 u2026              45\n",
       "don know                             43\n",
       "xe2 x80 x99s                         41\n",
       "x80 x99s                             41\n",
       "xc2 xa0 xc2 xa0                      35\n",
       "xa0 xc2 xa0                          35\n",
       "look like                            35\n",
       "x80 x9d                              34\n",
       "xe2 x80 x9d                          34\n",
       "bit ly                               34\n",
       "gay marriage                         32\n",
       "ly mrzlgv                            32\n",
       "bit ly mrzlgv                        32\n",
       "x80 x99t                             30\n",
       "xe2 x80 x99t                         30\n",
       "                                   ... \n",
       "probably mod                          1\n",
       "probably phuuking                     1\n",
       "probably memorial day good            1\n",
       "probably memorial day                 1\n",
       "probably memorial                     1\n",
       "probably look just like               1\n",
       "probably look just                    1\n",
       "probably look                         1\n",
       "probably likely think                 1\n",
       "probably overly generous nthe         1\n",
       "probably phuuking dyke                1\n",
       "probably shouldn informing child      1\n",
       "probably scream                       1\n",
       "probably shouldn informing            1\n",
       "probably shouldn                      1\n",
       "probably seen vagina laid             1\n",
       "probably seen vagina                  1\n",
       "probably seen                         1\n",
       "probably scream doctor comes          1\n",
       "probably scream doctor                1\n",
       "probably relevent mention             1\n",
       "probably phuuking dyke aint           1\n",
       "probably relevent                     1\n",
       "probably post apocalyptic world       1\n",
       "probably post apocalyptic             1\n",
       "probably post                         1\n",
       "probably played 25 30                 1\n",
       "probably played 25                    1\n",
       "probably played                       1\n",
       "00 gallon                             1\n",
       "dtype: int64"
      ]
     },
     "execution_count": 188,
     "metadata": {},
     "output_type": "execute_result"
    }
   ],
   "source": [
    "cvt = CountVectorizer(stop_words=\"english\", ngram_range=(2,4))\n",
    "X_all = cvt.fit_transform(insults_df['Comment'])\n",
    "columns  =  np.array(cvt.get_feature_names())\n",
    "\n",
    "freq_words = get_freq_words(X_all, columns)\n",
    "freq_words"
   ]
  },
  {
   "cell_type": "markdown",
   "metadata": {
    "deletable": true,
    "editable": true
   },
   "source": [
    "#### 1.E. (Optional) try expanding the list of stopwords\n",
    "There are definitely some non-words such as xa0, x80, web urls, etc. If you could remove them, this could help us improve the score.  Identify word/tokens that don't add much value to either class.  **You should additionally look at ngrams per class (insults vs non-insults) to fine tune your preprocessing.  This has the greatest potential to improve your results without tuning any model parameters.**\n",
    "\n",
    "Using `nltk.corpus`, we can get a baseline list of stop words.  Try to expand it and pass it to our vectorizer."
   ]
  },
  {
   "cell_type": "code",
   "execution_count": 189,
   "metadata": {
    "collapsed": false,
    "deletable": true,
    "editable": true
   },
   "outputs": [],
   "source": [
    "from nltk.corpus import stopwords\n",
    "stop = stopwords.words('english')\n",
    "stop += ['xa0', 'x80', 'xc2', 'xe3']\n",
    "stop.append(\"need\")\n",
    "stop.append(\"in\")\n",
    "stop.append(\"re\")\n",
    "stop.append(\"are\")\n",
    "stop.append(\"for\")\n",
    "stop.append(\"have\")\n",
    "stop.append(\"like\")\n",
    "stop.append(\"be\")\n",
    "stop.append(\"see\")\n",
    "stop.append(\"do\")\n",
    "stop.append(\"trade\")\n",
    "stop.append(\"u2026\")\n",
    "stop.append(\"http\")\n",
    "stop.append(\"mrzlgv\")\n",
    "stop.append(\"bit\")\n",
    "stop.append(\"ly\")\n",
    "stop.append(\"div\")\n",
    "stop.append(\"class\")\n",
    "stop.append(\"forum\")\n",
    "stop.append(\"item\")\n",
    "stop.append(\"shar\")\n",
    "stop.append(\"profile\")\n",
    "stop.append(\"es\")\n",
    "\n",
    "stop += ['people', 'go', 'know', 'think', 'get', 'us', 'really', 'way', 'xe2', 'got', 'want', 'well']"
   ]
  },
  {
   "cell_type": "code",
   "execution_count": 191,
   "metadata": {
    "collapsed": false,
    "deletable": true,
    "editable": true
   },
   "outputs": [
    {
     "data": {
      "text/plain": [
       "would      371\n",
       "one        360\n",
       "fuck       242\n",
       "right      223\n",
       "time       219\n",
       "make       211\n",
       "good       207\n",
       "back       189\n",
       "even       185\n",
       "say        183\n",
       "little     174\n",
       "ass        171\n",
       "fucking    170\n",
       "obama      159\n",
       "never      154\n",
       "going      154\n",
       "stupid     154\n",
       "man        153\n",
       "shit       148\n",
       "idiot      144\n",
       "dtype: int64"
      ]
     },
     "execution_count": 191,
     "metadata": {},
     "output_type": "execute_result"
    }
   ],
   "source": [
    "# These look pretty clean for a first step in anlaysis\n",
    "cvt = CountVectorizer(stop_words=stop, lowercase=True, strip_accents=\"unicode\", ngram_range=(1,2))\n",
    "X_all = cvt.fit_transform(insults_df['Comment'])\n",
    "columns  =  np.array(cvt.get_feature_names())\n",
    "\n",
    "freq_words = get_freq_words(X_all, columns)\n",
    "freq_words[:20]"
   ]
  },
  {
   "cell_type": "markdown",
   "metadata": {
    "deletable": true,
    "editable": true
   },
   "source": [
    "### 2. Setup a test / train split of your data using any method you wish.\n",
    "Try 70/30 to start."
   ]
  },
  {
   "cell_type": "code",
   "execution_count": 192,
   "metadata": {
    "collapsed": false,
    "deletable": true,
    "editable": true
   },
   "outputs": [
    {
     "data": {
      "text/plain": [
       "(2762, 1964)"
      ]
     },
     "execution_count": 192,
     "metadata": {},
     "output_type": "execute_result"
    }
   ],
   "source": [
    "# Find our training size\n",
    "training_size = int(insults_df.shape[0] * .7)\n",
    "\n",
    "# Randomly sample our training data\n",
    "insults_train = insults_df.sample(n=training_size, replace=True)\n",
    "\n",
    "# Capture the rest of the dataset that's not \"training\" using an inverse mask (rows NOT IN training dataframe)\n",
    "mask = insults_df.index.isin(insults_train.index)\n",
    "insults_test = insults_df[~mask]\n",
    "\n",
    "# Should be (2762, 1963) = training / testing = 70/30\n",
    "insults_train.shape[0], insults_test.shape[0]"
   ]
  },
  {
   "cell_type": "markdown",
   "metadata": {
    "deletable": true,
    "editable": true
   },
   "source": [
    "### 3. Setup a \"Pipeline\" to vectorize and use MultinomialNB classifier.\n",
    "Use `lowercase`, `strip_accents`, `Pipeline`, and optionally your updated `stop_words`.  Fit your comment data using the \"Insult\" feature as your response.\n",
    "\n",
    "Fit your training data to your pipeline, then score it."
   ]
  },
  {
   "cell_type": "code",
   "execution_count": 204,
   "metadata": {
    "collapsed": false,
    "deletable": true,
    "editable": true
   },
   "outputs": [
    {
     "data": {
      "text/plain": [
       "0.75814663951120165"
      ]
     },
     "execution_count": 204,
     "metadata": {},
     "output_type": "execute_result"
    }
   ],
   "source": [
    "# MultinomialNB\n",
    "pipeline = Pipeline([\n",
    "    ('vect', CountVectorizer(lowercase=True, strip_accents='unicode', stop_words=stop)),\n",
    "    ('tfidf', TfidfTransformer()),\n",
    "    ('cls', MultinomialNB())\n",
    "]) \n",
    "pipeline.fit(insults_train[\"Comment\"], insults_train[\"Insult\"])\n",
    "predicted = pipeline.predict(insults_test[\"Comment\"])\n",
    "pipeline.score(insults_test[\"Comment\"], insults_test[\"Insult\"])"
   ]
  },
  {
   "cell_type": "code",
   "execution_count": 194,
   "metadata": {
    "collapsed": false,
    "deletable": true,
    "editable": true
   },
   "outputs": [
    {
     "data": {
      "text/plain": [
       "0.98707879402077525"
      ]
     },
     "execution_count": 194,
     "metadata": {},
     "output_type": "execute_result"
    }
   ],
   "source": [
    "# Alternative -- train on all data for later data mining of reddit comments\n",
    "# MultinomialNB\n",
    "pipeline = Pipeline([\n",
    "    ('vect', cvt),\n",
    "    # ('tfidf', TfidfTransformer()),\n",
    "    ('cls', MultinomialNB())\n",
    "]) \n",
    "pipeline.fit(insults_df[\"Comment\"], insults_df[\"Insult\"])\n",
    "predicted = pipeline.predict(insults_df[\"Comment\"])\n",
    "pipeline.score(insults_df[\"Comment\"], insults_df[\"Insult\"])"
   ]
  },
  {
   "cell_type": "code",
   "execution_count": 195,
   "metadata": {
    "collapsed": false,
    "deletable": true,
    "editable": true
   },
   "outputs": [],
   "source": [
    "#  Add predicted probabilities back to original dataframe\n",
    "insults_df['Predicted'] = predicted"
   ]
  },
  {
   "cell_type": "markdown",
   "metadata": {
    "deletable": true,
    "editable": true
   },
   "source": [
    "#### 3.A. Swap out MultinomialNB with BernoulliNB in the pipeline\n",
    "How do they compare?"
   ]
  },
  {
   "cell_type": "code",
   "execution_count": 226,
   "metadata": {
    "collapsed": false,
    "deletable": true,
    "editable": true
   },
   "outputs": [
    {
     "data": {
      "text/plain": [
       "0.79174056245249558"
      ]
     },
     "execution_count": 226,
     "metadata": {},
     "output_type": "execute_result"
    }
   ],
   "source": [
    "# BernoulliNB\n",
    "pipeline = Pipeline([\n",
    "    ('vect', cvt),\n",
    "    ('tfidf', TfidfTransformer()),\n",
    "    ('cls', BernoulliNB())\n",
    "]) \n",
    "pipeline.fit(insults_df[\"Comment\"], insults_df[\"Insult\"])\n",
    "predicted = pipeline.predict(insults_df[\"Comment\"])\n",
    "pipeline.score(insults_df[\"Comment\"], insults_df[\"Insult\"])"
   ]
  },
  {
   "cell_type": "markdown",
   "metadata": {
    "deletable": true,
    "editable": true
   },
   "source": [
    "#### 3.B. Also try logistic regression and random forests in the pipeline\n",
    "How do they compare? Recall that Logistic Regression is discriminative whereas Naive Bayes is generative. Logistic Regression uses optimization to fit a formula that discriminates between the classes, whereas Naive Bayes essentially just computes aggregate statistics. So, Logistic Regression should have a longer training time than Naive Bayes -- does it here? (see `%time`)\n",
    "\n",
    "Note that Logistic Regression and Random Forests both allow you to see feature \"importance\"/coefficients. In this case, these coefficients will inform you how strong each word is an insult or not. Optionally, see if you can sort these coefficients by their values to get the strongest and weakest indicator words for insults."
   ]
  },
  {
   "cell_type": "code",
   "execution_count": 224,
   "metadata": {
    "collapsed": false,
    "deletable": true,
    "editable": true
   },
   "outputs": [
    {
     "data": {
      "text/plain": [
       "0.82138332911071699"
      ]
     },
     "execution_count": 224,
     "metadata": {},
     "output_type": "execute_result"
    }
   ],
   "source": [
    "# LogisticRegression\n",
    "pipeline = Pipeline([\n",
    "    ('vect', cvt),\n",
    "    ('tfidf', TfidfTransformer()),\n",
    "    ('cls', LogisticRegression())\n",
    "]) \n",
    "pipeline.fit(insults_df[\"Comment\"], insults_df[\"Insult\"])\n",
    "predicted = pipeline.predict(insults_df[\"Comment\"])\n",
    "pipeline.score(insults_df[\"Comment\"], insults_df[\"Insult\"])"
   ]
  },
  {
   "cell_type": "markdown",
   "metadata": {
    "deletable": true,
    "editable": true
   },
   "source": [
    "#### 3.C. Also try tweaking the paramters of CountVectorizer and TfidfTranformer\n",
    "\n",
    "Remove Tfidf also. Good / bad?"
   ]
  },
  {
   "cell_type": "code",
   "execution_count": 225,
   "metadata": {
    "collapsed": false,
    "deletable": true,
    "editable": true
   },
   "outputs": [
    {
     "data": {
      "text/plain": [
       "0.98682543704079051"
      ]
     },
     "execution_count": 225,
     "metadata": {},
     "output_type": "execute_result"
    }
   ],
   "source": [
    "# BernoulliNB\n",
    "cvt2 = CountVectorizer(stop_words=stop, lowercase=True, strip_accents=\"unicode\", ngram_range=(1,2))\n",
    "pipeline = Pipeline([\n",
    "    ('vect', cvt2),\n",
    "    # ('tfidf', TfidfTransformer()),\n",
    "    ('cls', LogisticRegression())\n",
    "]) \n",
    "pipeline.fit(insults_df[\"Comment\"], insults_df[\"Insult\"])\n",
    "predicted = pipeline.predict(insults_df[\"Comment\"])\n",
    "pipeline.score(insults_df[\"Comment\"], insults_df[\"Insult\"])"
   ]
  },
  {
   "cell_type": "markdown",
   "metadata": {
    "deletable": true,
    "editable": true
   },
   "source": [
    "### 4. Check your score.\n",
    "Also, run a classification report and [plot AUC/ROC](../../week-04/2.3-evaluating_model_fit/code/AUC-ROC-codealong.ipynb).  Also, [review classfication reporting metrics](../../week-04/4.3-advanced-model_evaluation/code/starter-code/week4-4.1-classification-report.ipynb)."
   ]
  },
  {
   "cell_type": "code",
   "execution_count": 228,
   "metadata": {
    "collapsed": false,
    "deletable": true,
    "editable": true
   },
   "outputs": [
    {
     "data": {
      "text/plain": [
       "((1964, 3), 3947)"
      ]
     },
     "execution_count": 228,
     "metadata": {},
     "output_type": "execute_result"
    }
   ],
   "source": [
    "insults_test.shape, len(predicted)"
   ]
  },
  {
   "cell_type": "code",
   "execution_count": 230,
   "metadata": {
    "collapsed": false,
    "deletable": true,
    "editable": true
   },
   "outputs": [
    {
     "name": "stdout",
     "output_type": "stream",
     "text": [
      "             precision    recall  f1-score   support\n",
      "\n",
      "     Insult       0.78      1.00      0.87      1443\n",
      "    Neutral       0.97      0.21      0.35       521\n",
      "\n",
      "avg / total       0.83      0.79      0.73      1964\n",
      "\n"
     ]
    }
   ],
   "source": [
    "predicted = pipeline.predict(insults_test[\"Comment\"])\n",
    "print classification_report(insults_test[\"Insult\"], predicted, target_names=[\"Insult\", \"Neutral\"])"
   ]
  },
  {
   "cell_type": "markdown",
   "metadata": {
    "deletable": true,
    "editable": true
   },
   "source": [
    "### Revisiting:  Learning Curves\n",
    "\n",
    "Let us reprise the idea of sample size effect on validation score.  How do we know the optimal sample size to train and test on?  We can examine the scores of training and cross validation given a number of samples.  Plotting the scores is a great way to understand:\n",
    "\n",
    "- How to improve bias / generalization (out of sample prediction)\n",
    "- Generally how many samples you might need\n",
    "- The bounds of your models performance \n",
    "\n",
    "Generally, the learning curves represent the number of samples that have been used, the average scores on the training sets and the average scores on the validation sets.  \n",
    "\n",
    "See also [validation curves](http://scikit-learn.org/stable/auto_examples/model_selection/plot_validation_curve.html#example-model-selection-plot-validation-curve-py) for model parameter *(aka: hyper parameter)* tuning, also [calibration plots](http://scikit-learn.org/stable/auto_examples/calibration/plot_compare_calibration.html)."
   ]
  },
  {
   "cell_type": "code",
   "execution_count": 211,
   "metadata": {
    "collapsed": false,
    "deletable": true,
    "editable": true
   },
   "outputs": [],
   "source": [
    "def plot_learning_curve(estimator, title, X, y, ylim=None, cv=None,\n",
    "                        n_jobs=1, train_sizes=np.linspace(.1, 1.0, 5)):\n",
    "    \"\"\"\n",
    "    Generate a simple plot of the test and traning learning curve.\n",
    "\n",
    "    Parameters\n",
    "    ----------\n",
    "    estimator : object type that implements the \"fit\" and \"predict\" methods\n",
    "        An object of that type which is cloned for each validation.\n",
    "\n",
    "    title : string\n",
    "        Title for the chart.\n",
    "\n",
    "    X : array-like, shape (n_samples, n_features)\n",
    "        Training vector, where n_samples is the number of samples and\n",
    "        n_features is the number of features.\n",
    "\n",
    "    y : array-like, shape (n_samples) or (n_samples, n_features), optional\n",
    "        Target relative to X for classification or regression;\n",
    "        None for unsupervised learning.\n",
    "\n",
    "    ylim : tuple, shape (ymin, ymax), optional\n",
    "        Defines minimum and maximum yvalues plotted.\n",
    "\n",
    "    cv : integer, cross-validation generator, optional\n",
    "        If an integer is passed, it is the number of folds (defaults to 3).\n",
    "        Specific cross-validation objects can be passed, see\n",
    "        sklearn.cross_validation module for the list of possible objects\n",
    "\n",
    "    n_jobs : integer, optional\n",
    "        Number of jobs to run in parallel (default 1).\n",
    "    \"\"\"\n",
    "    plt.figure()\n",
    "    plt.title(title)\n",
    "    \n",
    "    if ylim is not None:\n",
    "        plt.ylim(*ylim)\n",
    "    \n",
    "    plt.xlabel(\"Training examples\")\n",
    "    plt.ylabel(\"Score\")\n",
    "    \n",
    "    train_sizes, train_scores, test_scores = learning_curve(\n",
    "        estimator, X, y, cv=cv, n_jobs=n_jobs, train_sizes=train_sizes)\n",
    "    \n",
    "    train_scores_mean = np.mean(train_scores, axis=1)\n",
    "    train_scores_std = np.std(train_scores, axis=1)\n",
    "    test_scores_mean = np.mean(test_scores, axis=1)\n",
    "    test_scores_std = np.std(test_scores, axis=1)\n",
    "    \n",
    "    plt.grid()\n",
    "\n",
    "    plt.fill_between(train_sizes, train_scores_mean - train_scores_std,\n",
    "                     train_scores_mean + train_scores_std, alpha=0.1,\n",
    "                     color=\"r\")\n",
    "    plt.fill_between(train_sizes, test_scores_mean - test_scores_std,\n",
    "                     test_scores_mean + test_scores_std, alpha=0.1, color=\"g\")\n",
    "    plt.plot(train_sizes, train_scores_mean, 'o-', color=\"r\",\n",
    "             label=\"Training score\")\n",
    "    plt.plot(train_sizes, test_scores_mean, 'o-', color=\"g\",\n",
    "             label=\"Cross-validation score\")\n",
    "\n",
    "    plt.legend(loc=\"best\")\n",
    "    return plt"
   ]
  },
  {
   "cell_type": "code",
   "execution_count": 212,
   "metadata": {
    "collapsed": false,
    "deletable": true,
    "editable": true
   },
   "outputs": [
    {
     "data": {
      "image/png": "[encoded data removed]",
      "text/plain": [
       "<matplotlib.figure.Figure at 0x41f13330>"
      ]
     },
     "metadata": {},
     "output_type": "display_data"
    }
   ],
   "source": [
    "# Pipeline variable can be replaced by your already established estimator\n",
    "learning_plt = plot_learning_curve(pipeline, \"Learning Curves (Naive Bayes)\", insults_df['Comment'], insults_df['Insult'], ylim=(0.5, 1.01), cv=3, n_jobs=4)\n",
    "\n",
    "learning_plt.show()"
   ]
  },
  {
   "cell_type": "code",
   "execution_count": 213,
   "metadata": {
    "collapsed": true,
    "deletable": true,
    "editable": true
   },
   "outputs": [],
   "source": [
    "def multi_roc(y, probs):\n",
    "    \n",
    "    mean_tpr = 0.0\n",
    "    mean_fpr = np.linspace(0, 1, 100)\n",
    "    all_tpr = []\n",
    "\n",
    "    for i, (train, test) in enumerate(cv):\n",
    "        # probas_ = classifier.fit(X[train], y[train]).predict_proba(X[test])\n",
    "        # Compute ROC curve and area the curve\n",
    "        fpr, tpr, thresholds = roc_curve(y[test], probas_[:, 1])\n",
    "        mean_tpr += interp(mean_fpr, fpr, tpr)\n",
    "        mean_tpr[0] = 0.0\n",
    "        roc_auc = auc(fpr, tpr)\n",
    "        plt.plot(fpr, tpr, lw=1, label='ROC fold %d (area = %0.2f)' % (i, roc_auc))\n",
    "\n",
    "    plt.plot([0, 1], [0, 1], '--', color=(0.6, 0.6, 0.6), label='Luck')\n",
    "\n",
    "    mean_tpr /= len(cv)\n",
    "    mean_tpr[-1] = 1.0\n",
    "    mean_auc = auc(mean_fpr, mean_tpr)\n",
    "    plt.plot(mean_fpr, mean_tpr, 'k--',\n",
    "             label='Mean ROC (area = %0.2f)' % mean_auc, lw=2)\n",
    "\n",
    "    plt.xlim([-0.05, 1.05])\n",
    "    plt.ylim([-0.05, 1.05])\n",
    "    plt.xlabel('False Positive Rate')\n",
    "    plt.ylabel('True Positive Rate')\n",
    "    plt.title('Receiver operating characteristic example')\n",
    "    plt.legend(loc=\"lower right\")\n",
    "    plt.show()"
   ]
  },
  {
   "cell_type": "code",
   "execution_count": 214,
   "metadata": {
    "collapsed": false,
    "deletable": true,
    "editable": true
   },
   "outputs": [],
   "source": [
    "from sklearn.metrics import roc_curve\n",
    "\n",
    "def plot_roc(y, probs, threshmarkers=None):\n",
    "    fpr, tpr, thresh = roc_curve(y, probs)\n",
    "\n",
    "    plt.figure(figsize=(8,8))\n",
    "    plt.plot(fpr, tpr, lw=2)\n",
    "   \n",
    "    plt.xlabel(\"False Positive Rate\\n(1 - Specificity)\")\n",
    "    plt.ylabel(\"True Positive Rate\\n(Sensitivity)\")\n",
    "    plt.xlim([-0.025, 1.025])\n",
    "    plt.ylim([-0.025, 1.025])\n",
    "    plt.xticks(np.linspace(0, 1, 21), rotation=45)\n",
    "    plt.yticks(np.linspace(0, 1, 21))\n",
    "    plt.show()"
   ]
  },
  {
   "cell_type": "code",
   "execution_count": 220,
   "metadata": {
    "collapsed": false,
    "deletable": true,
    "editable": true
   },
   "outputs": [
    {
     "data": {
      "image/png": "[encoded data removed]",
      "text/plain": [
       "<matplotlib.figure.Figure at 0x482eacd0>"
      ]
     },
     "metadata": {},
     "output_type": "display_data"
    }
   ],
   "source": [
    "predicted_proba = pipeline.predict_proba(insults_test['Comment'])\n",
    "plot_roc(insults_test['Insult'], predicted_proba[:, 1])"
   ]
  },
  {
   "cell_type": "markdown",
   "metadata": {
    "deletable": true,
    "editable": true
   },
   "source": [
    "### 5 Check out your baseline.\n",
    "\n",
    "What is the chance that you will randomly guess correctly without any modeling? Insult vs neutral."
   ]
  },
  {
   "cell_type": "code",
   "execution_count": 217,
   "metadata": {
    "collapsed": false,
    "deletable": true,
    "editable": true
   },
   "outputs": [
    {
     "data": {
      "text/plain": [
       "0.2650253439536568"
      ]
     },
     "execution_count": 217,
     "metadata": {},
     "output_type": "execute_result"
    }
   ],
   "source": [
    "insults_train.Insult.sum() * 1.0 / insults_train.Insult.count() * 1.0"
   ]
  },
  {
   "cell_type": "markdown",
   "metadata": {
    "deletable": true,
    "editable": true
   },
   "source": [
    "### 6. Check the accuracy of your model with the holdout dataset \"test_with_solutions.csv\"\n",
    "\n",
    "Using the `test_with_solutions.csv`, we will test our model on another set of data it has never seen before.  Also plot the same eval metrics (classification report, AUC/ROC)."
   ]
  },
  {
   "cell_type": "code",
   "execution_count": 233,
   "metadata": {
    "collapsed": false,
    "deletable": true,
    "editable": true
   },
   "outputs": [],
   "source": [
    "test_df = pd.read_csv(\"datasets/test_with_solutions.csv\", encoding=\"utf-8\")\n",
    "test_df.head()\n",
    "\n",
    "pipeline.score(test_df['Comment'], test_df['Insult'])"
   ]
  },
  {
   "cell_type": "markdown",
   "metadata": {
    "deletable": true,
    "editable": true
   },
   "source": [
    "### 7. What is your model not getting right?\n",
    "\n",
    "Check out false positives and true negatives.  Any noticable patterns? Can you explain why many of these are incorrectly classified, given what you know about how Naive Bayes works?  Pay particular attention to the recall metric.  What might be done in preprocessing steps to improve accuracy?  \n",
    "\n",
    "- Try to improve with your **preprocessing first**\n",
    "- THEN try to tweak your **parameters to your model(s)**"
   ]
  },
  {
   "cell_type": "code",
   "execution_count": 245,
   "metadata": {
    "collapsed": false,
    "deletable": true,
    "editable": true
   },
   "outputs": [
    {
     "name": "stdout",
     "output_type": "stream",
     "text": [
      "\"You fuck your dad.\"\n",
      "\"shut the fuck up. you and the rest of your faggot friends should be burned at the stake\"\n",
      "\"Either you are fake or extremely stupid...maybe both...\"\n",
      "\"That you are an idiot who understands neither taxation nor women's health.\"\n",
      "\"FOR SOME REASON U SOUND RETARDED. LOL. DAMN. WHERE U BEEN NEGRO\"\n",
      "\"You with the 'racist' screen name\\n\\nYou are a PieceOfShit..........\"\n",
      "\"your such a dickhead...\"\n",
      "\"Your a retard go post your head up your #%&*\"\n",
      "\"Allinit123, your\\xa0hypocrisy\\xa0is sickening, you ignorant loser.\"\n",
      "\"I can't believe the stupid people on this site that have no idea what is going on.\\xa0 You fools.\\xa0 You are all useful idiots.\\xa0 They are hiding the truth because you fools who protect him would look like the useful idiots you are.\"\n",
      "\"fucking behave then you prick!\"\n",
      "\"Is that it??  your sum total to any conversation is first abuse and then calling them a troll..   You are a typical socialist idiot.  Keep up your non existent class warfare, it is as pointless as you.\"\n",
      "\"faggot\"\n",
      "\"Even as a troll you are a pathetic failure.\"\n",
      "\"You're a moron, truth is beyond your reach\"\n",
      "\"Your anti-Semitic rants are not welcomed here. You are a racist moron.\\nFU!\"\n",
      "\"god, you're tiresome. get a life, you loser.\"\n",
      "\"Of course you would bottom feeder ...\"\n",
      "\"You are a fucking dumb ass!.  Go back to you Xbox dickhead.  Grow up you little fanboy.\"\n",
      "\"Lets see your papers arealconservati.\\n\\nTill then shut the fuuk up sticky-chin.\"\n",
      "\"I think the only trickle that effected you was the trickle of sperm your dad gave your mom and most of that trickled down her leg.   Go back to sleep, we will wake you when you are needed again.\"\n",
      "\"And you keep on your knees and keep telling yourself that is a sausage in your mouth.\\xa0 And that is cream cheese you are swallowing.\"\n",
      "\"fuck you both\"\n",
      "\"and retards like you back to the institutions.\"\n",
      "\"Pig Maher, you forgot your meds again. You know you are one sick SOB so don't forget.\"\n",
      "\"Mr. King isn't it about time you either grow a pair of balls or join the democrats who will love a pussy cat like you.\"\n",
      "\"What an ass you are...funny I see a lot more of you \"nuts\" in cars then I ever have of pilots in panes...\"\n",
      "\"The most evil, callous, vile, creature in all of mythology is your made up god. Stop killing and eating babies, you dirty christard!\"\n",
      "\"You're a complete and utter moron.\"\n",
      "\"Your still a loser, man we must have really gotten under your skin lol\"\n",
      "\"floyd has a better knock out percentage than pacman you dumb fuuuuck\"\n",
      "\"You are one sick puppy.\"\n",
      "\"Can I say dick on here?\\nYour a dick.\"\n",
      "\"The way this fucking hoodrat is standing in that picture is boiling my blood. I'd like to meet this cunt in an alley for a few minutes. Selfish fucking twat.\"\n",
      "\"How old are u 12? \\n\\nKnicks fan BEEYATCH!!!\\n\\nNot a Melo ball licker!!!\"\n",
      "\"BITCH NIGGA YOU NEED AN EYE EXAM, AND EYE GLASSES! CASSIE ONE OF THE FINEST WOMEN ON EARTH!\"\n",
      "\"Nothing worse then a idi0t who smugs because of who he is, Gay\"\n",
      "\"You're a child rapist in NY. You have admitted it MANY times you sick fuck! You have no room to talk.\"\n",
      "\"Anti American piece of-shit you are\"\n",
      "\"Have you be sipping at th e sacramental wine again?\\n\\nYou really are a dense little dude.\"\n",
      "\"Howe does it feel to be a Freedom Leech parasite?\"\n",
      "\"Moron, the Latinos are becoming a large voting block you can't just dismissed them like you did with blacks, gay, women and other minorities.\\nYou need a majority to win and all whites don't buy your crap\"\n",
      "\"You are stuck on stupid obviously...give me a break and don't vote.\\nmoron\"\n",
      "\"who told you that....stupid ask yourself who kick his daughter out of the house at the age 16.....when it's comes protecting weaman you guys the last ppl on earth who can open their mounths..\"\n",
      "\"You as stupid as you were yesterday.\"\n",
      "\"There are a lot of morons posting on this site but you are in a class all by yourself.\"\n",
      "\"You are a Moron.\"\n",
      "\"suck my dick yeaah babby pussy\"\n",
      "\"Autumn..... You are, and Idiot. \\n\\nRed Flag #102 - Girls with No sense of Humor.\"\n",
      "\"That's because you're a nobody.\"\n",
      "\"You are incredibly stupid....\"\n",
      "\"Why did you do that?\" \"Because you smell like dog poo. You're so stupid, just like dog poo. You're made outta poo!\"\n",
      "\"yeah I'm pathetic but your the idiot going around trolling other teams pages. Why don't you get f#$@ing life you little sh1thead.\"\n",
      "\"ugly bitch go prostitute yourself so dat you can buy a big enough pant bottom to cover your gigantic ass \"\n",
      "\"You're a pussy ass punk.\"\n",
      "\"haha...atleast get your insults straight you idiot!!....\"\n",
      "\"I still dont see why half of you niggas click on every video that he post on wshh just to hate. If he so wack why the fuck you even click the video. #BASED\"\n",
      "\"i bet you are a white devil or cracker\"\n",
      "\"You are human garbage.\"\n",
      "\"We'll leave the fanaticism to morons like you, criminal.\"\n",
      "\"Can we have your address so that when you die we can all come and pay our respects, and then urinate into your urn before they flush it?\"\n",
      "\"More people on here than you, you cunt.\"\n",
      "\"I think it clearly displays your lack of rational thought if you truly believe that.\"\n",
      "\"FACT.. YOU ARE A MORON\"\n",
      "\"cortez u callin niggas soft but u look soft as hell too my nigga\"\n",
      "\"How does trolling for Obama pay? Pretty well?  What? No pay? You're an idiot, don't breed.\"\n",
      "\"You are a child.\"\n",
      "\"Flagged, you're a real dick.\"\n",
      "\"\\\\xc2\\\\xa0You're female, gay, or both.\"\n",
      "\"suck a dick pussy ass nigga bitch!!!\"\n",
      "\"hey rynthih95 who the hell r \\xa0u speaking on sachin .\\nshut up u fucking ass [[midfing]]\"\n",
      "\"hey jurbinsky your mom's a pile of garbage why don't you shut up.\"\n",
      "\"You really are a fool.\"\n",
      "\"go back to sucking your neighbors dogs dick\"\n",
      "\"shut the fuck up\"\n",
      "\"really ? you'd better be prepared for the whole law to be trashed, and pack your bags, your leaving the white house come jan, and good the heII ridence, you commy marxist bastard !\"\n",
      "\"Hey right winger \"just4thefax\", immigration isn't a \"wedge\" issue, it's a POLICY issue.\\n\\nGet a clue, moron.\"\n",
      "\"That's a dumb opinion and you are dumb for holding it.\"\n",
      "\"why dony you fuck off\"\n",
      "\"and you mother was a fucker.of dogs, to prove it, bark like the dog you are\"\n",
      "\"You are offensive and stupid.\"\n",
      "\"you're an egoistic dimwitted cunt. that's why you fail in your life. don't drag others' down.\"\n",
      "\"I'm sure dumb-asses, like yourself, will be trolling full force under our next President...Romney.  What does \"boyhollow\" mean...or do we want to know?\"\n",
      "\"you fail at being a mother and a Marine....someone should grab your empty\\xa0head and give you a killer bone crushing skull fucking in front of your father.\"\n",
      "\"You're a bleeping idiot!!!!\"\n",
      "\"You're a bum\"\n",
      "\"you're a tard\"\n",
      "\"Yeah, like I'd let you have the last say, loser. ;)\\n\\nAnd BTW, you're a bad stalker. I don't give a phuck about pitbulls. ;D\"\n",
      "\"You are stupid\"\n",
      "\"You are a fucking retard...before doing shit like that won't you consider the other person and how they got violated in to their privacy...go to fucking hell\"\n",
      "\"But Bellinski you are a Jewish Feigle yourself !\"\n",
      "\"Don't you wish you weren't so fat and could dance too?\"\n",
      "\"No people like you are the problem we are having in this world.\"\n",
      "\"Must really suck to be black. What a toxic, vile culture.\"\n",
      "\"Big Deal Libturd... go crawl back under your rock...\"\n",
      "\"Still waiting for you to put your money where your mouth is, coward.\"\n",
      "\"If it has to be explained, then you are too stupid to understand. Leftist fool.\"\n",
      "\"What is the point of switching between accounts?\\\\nJust so you know, you are being software tracked.\\\\nIts useless you stupid imbecile. \"\n",
      "\"Do you feel less sorry now that you made us realize how stupid you are?\"\n",
      "\"Forreal Black - You are an A-HOLE\"\n",
      "\"Let BaseGod fuck your bith man...Let him purge you of that Hate.\"\n",
      "\"bitch fuck A e-thug,MOTHER FUCKER im A cold hearted SHAOLIN MONK,and believe me when i tell you THIS,I WILL HUNT YOU DOWN !!!\"\n",
      "\"You're a fucking joke.\"\n",
      "\"FAGGOT ARE NOTHING BUT FILTH.  THE ONLY THING I AGREE WITH THE MUD-SLIMES ON.  STONE THE F I LTHY FAGS  TO THE DEATH,.  NUFFFFFF   SAIDDDDDDDDDD\"\n",
      "\"Racist trash.\\xa0 You are the lowest level of humanity.\"\n",
      "\"Very sorry I mentioned it.\\xa0 Just keep bitching here where you are SURE it will amount to nothing.\"\n",
      "\"WTF KIM KWANG SOO THATS MOSTLY T-ARA MONEY U FUCKING LEECH\"\n",
      "\"You should change your name to just dumb guy, since you know nothing.\"\n",
      "\"It's a commentary piece, douche-bag. Read before you open your stink-hole.\"\n",
      "\"so basically you are an id iot who just repeats what maddow and rev al have to say.\"\n",
      "\"fuck your god.\"\n",
      "\"Are you retarded? The family are suing hustler because they DIDN'T want those pictures published. Try reading the story properly before accusing a family of 'cashing in' on their dead relative.\"\n",
      "\"she would do anything for her little girl u bastered u dont kno shit.\"\n",
      "\"Fuck you Luther Abel\"\n",
      "\"OMG now I feel sorry for you that was just pitful.\\nEnough trying to converse with trailer park formaldehyde damaged brains.\\nStep outside once and a while people\"\n",
      "\"lol you morons think im black ? nope im same like you boeti only think is i hate you racist batards :)\"\n",
      "\"just go away because you get dumber by the day. You probably even foegt where the subject began dumb dumb\"\n",
      "\"wow your just as dumb as look\"\n",
      "\"He guilty you ignorant azz! He doesn't have to worry about it anyway because he'll never be in the hall of fame\"\n",
      "\"Obama can't stand up to being vetted.\\xa0 That's why the POS sealed his records.\\xa0 You don't evenko who that loser in the white house really is.\"\n",
      "\"you are just an idiot blabbermouth that is gonna get stopped HARD one day! You WILL NOT be saved.\"\n",
      "\"Like you Know Fck Face.\"\n",
      "\"Holyshit your an idiot.  Coming from a Boston fan.  You need to get a life and give respect where it's due.  Something like \"Good job Miami, great series, you guys are better, that's why you won.\"\"\n",
      "\"fake as hell. its illegal to even put a cam in a bathroom. dumb fucks\"\n",
      "\"Your notion that you are sexually abused because you are hitting on newcomers and want to be justified in that sounds exactly like the pathology of a predator. Better check yourself.\"\n",
      "\"FUCK ALLA YALL YMCB TAKEOVER WEEZY JUST TIRED OF THE BEEF DAS WHY HE SAID THAT\\xa0http://www.youtube.com/watch?v=5n7oA_Kk1IQ\"\n",
      "\"Thats what you call there a fucking mexican 100% there for you niggers & crackers\"\n",
      "\"You are a fool.\"\n",
      "\"She can act like she thinks she's perfect and be a naive bitch ;)\"\n",
      "\"... and you're no human, your worthless pieceofch*t.\"\n",
      "\"Laffin?\\xa0 You don't laugh at anything you jihadist puke.\"\n",
      "\"AWE.......\\xa0 Poor wittle troll on Patrol is TOO $TUPID to speak onlyEnglish, SO I'M THE BAD GUY.\\xa0 SERIOUSLY?\\xa0 LMFAO!\"\n",
      "\"No idiot, tell it to the surpreme court and you're not even funny.....morning asshole go back to bed.\"\n",
      "\"You're a freaking idiot! there isn't a word in the dictionary to\\xa0describe\\xa0you, you're just beyond a dumbass it's not even\\xa0funny\\xa0anymore!\"\n",
      "\"Wow way to tell us how rich you are...stupid yuppie.\"\n",
      "\"You're starting to\\xa0sound like a Nazi.\"\n",
      "\"Embrace the probability of your iminant death, you idiot.\"\n",
      "\"Good riddance you drug abusing loser.\"\n",
      "\"Hating for jealousy is just so absurd, though.  It makes you look like an idiot with no knowledge of baseball at all.\"\n",
      "\"I see you dreamt about me all weekend. I am not into men like you are, and also cowards aren't very attractive. Now get to work you little cowardly stable boy.\"\n",
      "\"fucking savages\"\n",
      "\"its comedy u fuckin hater. nigga prolly is smashin her off camera\"\n",
      "\"You know what pathetic . Your Mom asked me to remind you that it is bed time ..Oh and she just asked me to have you send your sister to her bedroom\"\n",
      "\"And you are retarded.\"\n",
      "\"lol, your full of chit , just another stupid liberal\"\n",
      "\"Retard\"\n",
      "\"XSHOGUNX'S EYE ARE SPREAD FAR AS FUCK. HE LOOKS LIKE HE HAS DOWN'S.\"\n",
      "\"RYAN...........GO BACK TO SUCKING YOUR MOTHERS TEAT................BOYWONDER\"\n",
      "\"And you're not a racist, are you.  What a joke you are.\"\n",
      "\"At this point, it is safe to say your ignorance can be now classified as stupid.\"\n",
      "\"you dudes really need a fucking life.... plenty people with jobs dont have cars so for you to sitting here judging someone elses life really says alot .. shut da fuck up n just watch the video\"\n",
      "\"god, you really are stupid.\"\n",
      "\"you're so FUCKING DUMB!\"\n",
      "\"Doubt it.. again showing your awesome reading comprehension skills.. i said you're acting like a b!tch not you are a b!tch big difference there genius\"\n",
      "\"BUDDHA  IS  A FAT ASS SLOB..........NUFFFFF SAID.  HE IS THE FAKE.  YOU MORON.\"\n",
      "\"She continues to be Obama's whore.\"\n",
      "\"You have a dream too i heard, your sister gave you handjob as a symbol of pity\"\n",
      "\"And I call you a brain dead jew retard because it's true. Perhaps if you got the muslim nazi's dick out of your ass you'd have more friends.\"\n",
      "\"You need some serious psycho;logical help.\"\n",
      "\"Look who is talking...the payaso who sucks at both English and Spanish!\"\n",
      "\"Sarcasm?  learn how to spell you moron\"\n",
      "\"If u didnt give a fuck what i was saying why is ur dumbass replying? Clearly u are ignorant and unsophisticated.\"\n",
      "\"your ignorant as fuck.. black people been skateboarding for a long ass time.. stop looking for lil wayne to set your trends\"\n",
      "\"You're a turd.\"\n",
      "\"AlenLemone - Anyone intelligent reading your comment could only come to the conclusion that you have mental issues, to say the least. Either that or you're simply a biased russian.\"\n",
      "\"buzz off you twat\"\n",
      "\"Go change your depends, crybaby.\"\n",
      "\"That was so 45 minutes ago troll. Get with the times.\"\n",
      "\"Stop whining you moron democrats you backed aFucking no brain marxist loser in 2007. Now pay the price\"\n",
      "\"I already have insurance you jack AZZ.  But If I didn't I will show up where I want to for medical care and you dumb AZZ will be paying for it just like you will be for all of those that can't and or won't afford to get insurance.  See, this is why I don't like talking to people like you, you have to use nasty language on you opposition because that's the way you deal with people that do not agree with you.\"\n",
      "\"Your Teabilly slutchild is just as ignorant as her mother.\\n\\nYou people are the trailer trash of America.\"\n",
      "\"NO FUCKING WAY??!!!! You can't leave us! Can't you knock over an old lady or something? Turn tricks? Blackmail someone? \\n\\nFUCK! NOOOOOOOOOOOOOOOOOOOOOOO!!!!!!!!!!!!!!!!!!!!\"\n",
      "\"Shut up you PAWB. Lebron lsoing is not going to ad years to your life.\"\n",
      "\"And sodomize you against your will?\\xa0 You are a sick ticket Annabelle.\"\n",
      "\"fuck off whore\"\n",
      "\"damn, you are truly stupid\"\n",
      "\"lol ur dumb/retarded\"\n",
      "\"Hey moron, 1) you're a disgusting human 2) Seau wasnt on those pats teams.  You're a fool.\"\n",
      "\"BS. Lowe you are an arrogant prick. Beyond criticism? You deserve nothing but criticism you idiot.\"\n",
      "\"And you're a big phat, brown, stoopid libturd...\"\n",
      "\"I wish the same to you uglyandpoor.  You have nothing to say of your own, so you post things I have said - out of context.  You are a horrible little person.  flag yet again.\"\n",
      "\"Storobin - you\\xa0stole the damned election.\\xa0 You are not wanted in my neighborhood.\\xa0 Get the hell out of here and go back to wherever it is you came from.\"\n",
      "\"Coolest president ever? Your a complete waste of oxygen and resources. Phucking idiot\"\n",
      "\"Shows what you know dipshit, Remington and Winchester aren't made in China.\\xa0 I swear,\\xa0elitist assclowns like you are an utter embarrassment.\"\n",
      "\"Well then the OP would learn that she cannot diagnose herself with Aspergers, and that self-diagnosis is a bad thing leading to people whom act stupidly because they think they have some disorder/disease\\xa0that in actuality, they don't.\"\n",
      "\"You act like you faced a good team. You played like crap against another crappy team.\"\n",
      "\"You married the turd, and bred with him...\"\n",
      "\"HEY KRYSTAL: YOU STUPID IDIOT WHO Can't Understand Normal Thinking.. fhuck off you howre\"\n",
      "\"huck huck huck, no... but giant pictures of them beating the_crap out of idiots like you are ok!!\"\n",
      "\"He won Michigan in the primaries.  Holy shit, your dumb.\"\n",
      "\"All racists like you are morons, dude! \\n\\nIt just happens most pit bull owners are morons too & this has even more convinced me of that.\"\n",
      "\"It's hard to read your post and not immediately think that you're xenophobic\"\n",
      "\"Fuck you Fred\"\n",
      "\"go suckle on your mom's teet little child\"\n",
      "\"You are a fucking idiot.\"\n",
      "\"Flag this loser's posts. Enough flags and he loses his nic automatically.\"\n",
      "\"Apparently, bad officiating never gets old to you morons.\"\n",
      "\"Thanks for confirming that conservative men only see their women as a pair of tits and an azz.\"\n",
      "\"what's your deal bro?  You aren't concerned, and you damn sure are not a liberal.  Why don't you just be yourself instead of coming on posing as a screwed up exaggeration of people you don't like or understand?  Did your mommy not love you enough or something?\"\n",
      "\"oh all of a sudden u changed ur picture to A WHITE GUY WITH PENNY LOAFERS....MUFUCKER U LAME\"\n",
      "\"You're naive and don't have a basic grasp on biology.\"\n",
      "\"Nobody gives a shit what you say\"\n",
      "\"bitch please...you are the biggest troll. :P\"\n",
      "\"You do not exist as a human being. Please go back into your hole you rotten scumbag.\"\n",
      "\"The article was about Bush you asshole.\"\n",
      "\"Hush little negro don't say a word,\\nMama gonna buy yawz some Thunderbird.\"\n",
      "\"No you are a corny dumb ass.\"\n",
      "\"So you call her a W H O R E making you what.....? Pure? You're a fool and an idiot.\"\n",
      "\"When you say Bama, you are referring to the school, like in your posts below... stop being an idiot.\"\n",
      "\"Stop acting like a bitch. \\xa0He was a kid for goodness sake.\"\n",
      "\"Well we know you are to dumb... You only chose that screen name to satisfy your overgrown ego....\"\n",
      "\"Got a reference for that idiotic comment?\"\n",
      "\"@berethor099 Go ahead and try, dude. Go - fucking - ahead.\"\n",
      "\"Rob, you have proven your point already. We understood - you are an antisemit. You can relax now.\"\n",
      "\"It is a great honor to be a Zionist. You are garbage, a retarded idiot.\"\n",
      "\"sgboy,get back to your cot,I hear your parents calling for you.\"\n",
      "\"You are a pig.\"\n",
      "\"fly away gay_pusssy...fly away.\"\n",
      "\"We're not the losers but\\xa0 you and this country are.\"\n",
      "\"Commenter?\\xa0 Your very childish.\\xa0 Grow up and be a man.\\xa0 Stupid remarks like yours just proves that you are a little boy and have yet to understand what it means to be an adult.\"\n",
      "\"Provide Proof faggot.\"\n",
      "\"Your Mother is the clubhouse whore...\"\n",
      "\"Take your \"testament\" and shove it.\"\n",
      "\"Seems like you are on tik you moron! Are all people of your colour rapists of mothers and children? I don't think so. Stop making idiot comments!\"\n",
      "\"How stupid are you? Do you realize that many women take birth control pills for many reasons besides preventing pregnancy? Educate yourself,fool.\"\n",
      "\"fucking idiots\"\n",
      "\"you're a fighter not a lover,and your family needs to die too.\"\n",
      "\"Ok. You are a complete retard. Re-read what you just said about a \"bullpen\". You know nothing about baseball!\"\n",
      "\"That is a moronic response. They should not repeat the crimes they commited? Please don t post your trash here.\"\n",
      "\"Now you went and...fucked..up this whole page.\"\n",
      "\"You know, it is so easy to talk shit about this, you know nothing about what he was going thorough in his life, so fuck off!\"\n",
      "\"@Pickle\\n\\nYou look like Brian Scalabrine's brother.... thoughts?\"\n",
      "\"And you need to know classified information because... When it passes into history, there is little anyone can do about it.  And in the meantime, you really don't need that information.  I'm guessing you just want to feel smug about getting it.\"\n",
      "\"You are an idiot.......why do you even bother..??.Wasted words.\"\n",
      "\"You stupid f uuu c \\xa0 \\xa0k. I hope you die the same way she did.\"\n",
      "\"All these news are planted and for getting some extra media attention - that's all ..............................................bloody fucker ............ranbir fucker kapoor.\"\n",
      "\"You are an IDIOT!!!\"\n",
      "\"Well, I WAS born and raised in Africa and proud of it! Wth do you think Africans are lesser than you or something?? Take your ignorant ass somewhere else cuz I'm not the one.\"\n",
      "\"And odumbo is an old lying,inept,loser,communist,ni66er,what's your point?\"\n",
      "\"try speaking in correct english as well. what dummies are on here today.\"\n",
      "\"Who the hell do you think you are saying anything! SOUNDS LIKE YOU ARE THE UNEDUCATED IGNORANT  PIECES OF SHIT TO ME!!!!\"\n",
      "\"Answer: Yes. No. Yes. Are you retarded? Meh. Nope.\"\n",
      "\"You don't wear your brain bucket ....you only hurt you and your family. You become impaired you have the ability to hurt everyone.\"\n",
      "\"How was that not a strike you buffoon?\"\n",
      "\"SHUT UP YOU DUMBA<m>SS B<m>ITCH YOU ARE DIRTY BROWN WATER TRASH\"\n",
      "\"Well aren't you phucking special. It's easy to have all those things when your still living in your mother's basement. LOSER\"\n",
      "\"and it's idiots like you wanting soviet bloc laws as long as they don't affect you. Your both retarded, and you need to go back and read the Bill of Rights and the Constitution again.\"\n",
      "\"It's not being a Liberal that makes you like an idiot, it's when you try to defend this POS POTUS that makes you look like an idiot!\"\n",
      "\"You are a LOSER.\"\n",
      "\"GO-AWAY GO-AWAY GO-AWAY YOU DIRTY SLUT\"\n",
      "\"How do you accidentally molest someone?\\nAre you retarded,or did it happen to you?\"\n",
      "\"you are a hater..plian and simple....\"\n",
      "\"lol i diot we used your money lol what a waist of DNA you are.\"\n",
      "\"That second year of fifth grad was a big fat waste of time.\\xa0 You are one sad, ignorant, liberal troll.\"\n",
      "\"More grammatical errors, Vicky<2. You're on a roll today. You are so stupid...\"\n",
      "\"The muzzies don't like it when you fight back. Friggin' cry babies. Go back to what ever hell hole you crawled out of, you homicidal morons.\"\n",
      "\"im playing college ball what you, 5 sitting on worldstar\\xa0frustrated\\xa0with yo life lame im laugh fuck niggas like you everyday 5\"\n",
      "\"The waste of time here is you and your comment\"\n",
      "\"jonx,\\nYou are crazy, just plain crazy.\"\n",
      "\"how do you know mother fucker stop assuming shit you don t know you don t know that man like you hypocrite son of a bitch\"\n",
      "\"More grammatical errors, Vicky<2... You are so stupid...\"\n",
      "\"Go back to MediaMatters, troll.\\n\\nYou and your pond scum buddies are toast.\"\n",
      "\"And you are a terrorists pig.\"\n",
      "\"tamrabam. you are a moron. I assume you vote labour. were you there, no , so shut your gob. \\xa0Maggie had the balls to kick them out in no uncertain terms, non of our current leaders would do that now.\"\n",
      "\"None of your posts have any value whatsoever.\"\n",
      "\"The key words being keep thinking, something you have a hard time doing redneck racist retard.\"\n",
      "\"so lets pamper the child so the child never does better. you are an idiot.\"\n",
      "\"It's been years and you birther idiots have yet to find ONE piece if evidence to support your claims, so who is the stupid one?\\n\\nYou are gullible and ignorant if you believe our president was born in Kenya\"\n",
      "\"Dickhead will just copy and use it, don't bother. We know Rooster is all mouth and no balls.\"\n",
      "\"Cheap\\xa0pathetic references to Nazi Germany, you dont know how good you have in this country A-Hole!\"\n",
      "\"I pull nothing from you, Hanni. But, keep parroting me, in lieu of thinking for yourself. It will at least make you sound a little smarter than you really are.\"\n",
      "\"Your point is as valid as the hole in your head that you obviously gave to yourself before making such an idiotic statement. And bringing politics into it? Could your trolling be more obvious?\"\n",
      "\"fuck this gane this fucking fake\"\n",
      "\"Greatness ? how do his balls feel in your mouth?\"\n",
      "\"_FUCK_OFF_NIGGER_YOU'RE_NOT-AMERICAN_YOU_POS-FAGGOT!\"\n",
      "\"Your an IDIOT!\"\n",
      "\"Your an idiot\"\n",
      "\"How do we know Terry Krepel is your real name.\\xa0 If you are not a gutless coward, you'll provide an address and phone number.\\xa0 Now, we are paying attention...don't be a gutless coward and p*ssy!\"\n",
      "\"You are either very ignorant or terrible at sarcasm\"\n",
      "\"Chris, please stop commenting, because you're obviously still trying to catch your breath from your sucking off Cook. This has made you more retarded than usual.\"\n",
      "\"Oh yeah. Like you would have stopped your car and assisted. You're a lying idiot.\"\n",
      "\"You're probably a phuuking dyke....aint ya beotch ?\"\n",
      "\"Steve,go brush your teeth with a revolver you dumb bastard\"\n",
      "\"That has to be the stupidest comment I've ever seen.\"\n",
      "\"\\\\xc2\\\\xa0We have more where he came from. Don't rest, we are watching your fat azz.\"\n",
      "\"let me rephrase:\\n\\nIn other words, you are an insane pussy.\"\n",
      "\"With a screen name like yours, you need to s..t..f..u..\"\n",
      "\"If you lose your life because of stupidity, good riddance!\"\n",
      "\"straight men will fuck anything!!\"\n",
      "\"Your mom must be a real low life trashy hook er\"\n",
      "\"So, now we know what you are by your own identification, fool, will you kindly moveon.org and stop cluttering up the place and so we intelligent posters can post?\"\n",
      "\"Maybe you should read that\\xa0first sentence you wrote\\xa0again slowly. You are bending over to far to make\\xa0an illogical\\xa0point. We are starting to see your ignorance.\"\n",
      "\"Fuck you, you fucking dork.\"\n",
      "\"that nigga joe as shit fuckk out of here u dirty ass young bull\"\n",
      "\"you are a complete fool. slowly read what you have just written. it makes no sense.\"\n",
      "\"id kill you if you were here. not because im a \"gangsta\", but because i hate you. f*ck you.\"\n",
      "\"F v < k you too.\"\n",
      "\"thankyou EPS\\nYOUR AN IDIOT RICDOSE\"\n",
      "\"Tom, you are an idiot on. You suffer from whitmenitis, aka, you find it easier to blame others for your mediocre life achievements. Truth of the matter is, you simply do not have much to offer.\"\n",
      "\"go back to your crapping unperfection home\"\n",
      "\"And you are a weak bully!\"\n",
      "\"What a fool you are, we all know that you think of nothing more than being GAY.\"\n",
      "\"Why don't you take your pathetic intimidation attempt and shove it up your @ss, troll?\"\n",
      "\"not a slave tho you idiot internet racists\"\n",
      "\"ILL FUCK YOU LIKE AN APE GAY BOY\"\n",
      "\"With every one of your comments that I read, I realize more and more just how batshit crazy you are.\"\n",
      "\"Pussy bitch take my fuking house off of your picture. I know it looks better than that nasty black ass you had up there but still\"\n",
      "\"@justin_mia Perkins is a knucklehead\"\n",
      "\"holy sh yt, you are one du mb ph uck\"\n",
      "\"LETS START BACK UP WITH THE LIBTURDZ AND TEAA TARD NAME CALLING\"\n",
      "\"You are a lying son of a bitch. \\xa0Let's see you post some facts supporting your assertion.\"\n",
      "\"Your absolutely right, there is no way of explaining it to a moron like you - go back to smokiung your crack, 8ss-hole!\"\n",
      "\"Hey right wing moron \"You Kidding Me\", you're the cutest little GOP whine baby on this forum.\"\n",
      "\"Idiot is yr father!\"\n",
      "\"Not really. This man doesn't seem to do his homework, or doesn't check his articles, or simply doesn't know very much about history.\"\n",
      "\"AND YOU POSTAL, WERE HATCHED\"\n",
      "\"as i say before, you are as\\xa0gay as a 2 dollar bill.\"\n",
      "\"Buddy you sound like a complete clown on here running your mouth\"\n",
      "\"Hate that fucking asshole moron\"\n",
      "\"Your syntax is pathetic.\\\\xc2\\\\xa0 And you are a cocksucking batshit motherfucker to boot.\"\n",
      "\"Yep, you're a darky.\"\n",
      "\"you truly are a mental midget.\"\n",
      "\"I want to know why you don't have a job - is it because you were busted at work with your kiddieporn?\"\n",
      "\"Are you really this STUPID?\"\n",
      "\"This guy is such a loser. Nevada, you really suck! This guy is evil personified...\"\n",
      "\"You do know you are an asshole and started all the shit with him. You Jews have been doing the same for years. Banning together to the detriment of decent people. Another reason most in the world would cheer for the Nazis today.&nbsp;\"\n",
      "\"narrow minded little fool you are\"\n",
      "\"You are better suited to use a dumb phones. No point of you using a smart phone.\"\n",
      "\"Sure, it was. I asked Mr. Hawkins why we you allowed to continually call others pedophiles and he banned your ass. I can provide the email copy if you like. Don't be a pussy and deny it. \"\n",
      "\"Before making a stupida$$ comment....you dumbfuck......try looking up her picture first!\\xa0 She is white and very over-weight.\"\n",
      "\"When you blacks take a shit does it come out purple? When you piss does it come out green?\"\n",
      "\"As is your mother. . . . .who is the.beastiality whore.\\xa0\\n\\nLighten up. . . . \"It's comedy!!\" \\xa0Bwaaaaaaaaaaaaaaaaaahh!!\"\n",
      "\"like your mom\"\n",
      "\"keep it movin bitch ass nigga\"\n",
      "\"I'm used to idiots like you jumping in <b>AFTER</b> your team actually does something.   I've been here and will continue to be here after you're long gone because the niners will suck again soon.\"\n",
      "\"W T F are you ranting about adolf?\"\n",
      "\"It's rumored you're a fkucing moron\"\n",
      "\"Another idi0t who did not RTFA.\"\n",
      "\"You're a moron. I cannot believe people are complaining about freedom of choice.\"\n",
      "\"i don't know your unsolicited advice - let me vent out my frustration before I\\\\xc2\\\\xa0cum into your mouth - you sound like freaakin faggot.\"\n",
      "\"so you fuck your 3 dogs, your a sick fuuk.\\nby bitches i was talking about women.\\nbut the point you just tried to make makes me want to fuk you up even more.\"\n",
      "\"You are disgusting.  Absolutely disgusting.  There is a young woman clinging to life and you feel the need to pass judgement.  Judge not lest you be judged.\"\n",
      "\"Drago, you didn't buy Usher's album? You are obviously racist then. You won't buy a black artist's album because you don't like black people.\"\n",
      "\"you are a friggin moron. Oh you didn't get the memo? Sorry\\n\\nYOU ARE A FRIGGIN MORON!!!!\"\n",
      "\"Foolish rube. We blew $4 trillion already on that stupidity.\"\n",
      "\"Really? Than why are there over 30 states that are against gay marriage??? \\xa0Get your shit straight libturd!\"\n",
      "\"You dirty fucker\"\n",
      "\"\"parents\"\\xa0 He was visiting his dad's fiance,\\xa0 geeez dude you really are completely stupid\"\n",
      "\"suck my dick bitches\"\n",
      "\"aww, poor baby\\n\\nI think you're just jealous because you spent your spring break at the pond in te back of the trailer park with the other idiot rednecks\"\n",
      "\"Choosing to not eat animals doesn't make you a pussy.  Go choke on a corndog, bitch.\"\n",
      "\"You a fucking little coward of a bitch.\"\n",
      "\"oh poor you...you are judged for being black...then poor me, I have to listen to your whiny black azz\"\n",
      "\"YEAH,I BET YOU INBRED HILLBILLY.\"\n",
      "\"Woowww, you really are an idiot... You need to go to school... Like really bad...\"\n",
      "\"you're a sick fuck.\"\n",
      "\"Stupid jerks called child rape anal sex.  It's called anal rape you sick freaks!\"\n",
      "\"Your dad is a pecker jerk.\"\n",
      "\"got a problem with haitian people dumb fuck... he's not even haitian ignorant ass nigga\"\n",
      "\"Go change your tampon maggot!\"\n",
      "\"Come back when you are out of puberty.\"\n",
      "\"We're talking about Murder here, Racist a s s hole.\"\n",
      "\"your a troll bitch\"\n",
      "\"You're just a mouthy bitch, just like your whore mother. Now get back in the kitchen & make me a sandwhich NOW!!\"\n",
      "\"them some ugly motherfuckers. Proof you don't need to be beautiful to make it in Hollywood, you just have to know who to blow.\"\n",
      "\"Senator Bryd\\xa0 Democrat\\n\\nSaul Alinsky aka libtards\\xa0 Socialist\"\n",
      "\"Try to write in English next time dopey.\"\n",
      "\"have you been living under a rock kaden?\"\n",
      "\"You poor, hopeless moron...you still fall for this shit?\\nMust suck to be you.\"\n",
      "\"GO AWAY YOU FUC<M>KERS\"\n",
      "\"You are too_stupid to breathe! \"\n",
      "\"this nigga gay, i would have been fucked that bitch.\"\n",
      "\"Bristol....just like your mom, you are an idiot.\\xa0 Just another slave to right wing ideologies that do not cross paths with reality.\\xa0 You are just another kid who had a kid.\"\n",
      "\"Commenter, why are you still trolling here? You are the loser!\"\n",
      "\"You must be a faggot to assume that I'm on them, bitch-nigga.\"\n",
      "\"Stupid fucking idiots,,,what more can you say. These freaks should put signs on their foreheads saying \"This Space for Rent.\"\"\n",
      "\"YOU ARE THE REAL @SSHO LE AND I HOPE PEOPLE ON HERE REALIZE THAT YOU ARE A PRETENDER\"\n",
      "\"Some of you must think our enemies are as gullible as you are. \\xa0Nothing interesting here. \\xa0Move on.\"\n",
      "\"you're an idiot\"\n",
      "\"Well said. That you're all mouth and no facts has no bearing. Keep repeating it, though. Eventually you'll convince other idiots that you know something.\"\n",
      "\"And your word sure the fuck does not a mandate make.\\n\\n90% of your genes are shared with a fucking banana.\\xa0 Get over yourself.\"\n",
      "\"Dude, if you change you username to\\xa0specify\\xa0against someone then you're a butthurt fag\"\n",
      "\"Why is manber such a shit rapper?\"\n",
      "\"You're analysis is exceptionally American. And by that I mean it's entirely grounded in fact-challenged star-spangled retardation- entirely voluntary in nature.\"\n",
      "\"People like you are the reason the economy is failing.\"\n",
      "\"Leftist White race traitor\\xa0or shit skinned\\xa0degenerate; you are a hard one to call.\\n\\nMongoloid.\"\n",
      "\"I have a 45 that has a 6.5 inch barrel..I'll bet that would fit better. You wanna suck on it? You will love the climax it has. Will damn-near blow your mind!\"\n",
      "\"You're terrible and you've got 28 dislikes. Look's like you're an idiot just like IGN(orant)\"\n",
      "\"Are you retarded?\\n\\nTroll harder bitch.\"\n",
      "\"Jeezus...do you realize you are making a total fool of yourself? You are criticizing someone for not knowing enough about one of the lowest firms of expression.\"\n",
      "\"Well your Buckwheat Obama would qualify fagg0t\"\n",
      "\"Get thatdick outta your mouth so you can talk.\"\n",
      "\"You didn't read the article, and you are a ignorant putz.\"\n",
      "\"Are you really this stupid?\"\n",
      "\"Stfu your existence offends me\"\n",
      "\"It's much better than the left wingnuts who got us into this mess in the first place! \\xa0Like you Susan!\"\n",
      "\"@Hoss \\xa0\\xa0@JenBroflovski\\xa0fuck you you old fuck, the real john mclain.\\n\\xa0\\nthe real one from die hard\"\n",
      "\"Nope, it is a moron like you who needs to shut up\"\n",
      "\"You are simply comically idiotic.\\xa0 Or you're just a depressing fool.\\xa0 Either way, you're still just a liar and an Internet coward.\\xa0 Cheers!\"\n",
      "\"You are wrong idiot!\"\n",
      "\"Don't you get tennis elbow from jacking off as much as you do? \"\n",
      "\"Bitch,be quiet. Somebody needs to kick your ass for talkin' that stupid shit,hoe.\"\n",
      "\"You are a complete moron\"\n",
      "\"You piece of scum. According to the SA constitution, this lady was a Black person. Hope your mother is the mother of all old cows. Idiot.\"\n",
      "\"@caljb7 i'm on AAC then ya dumb fuck\"\n",
      "\"It's just you smelling your armpits again. GO back to your nails\"\n",
      "\"Do you realize how retarded, ignorant, sorry, and pathetic you sound?\"\n",
      "\"Substantiate your slur....or should we talk about the bi-sek'sual in the WH?\\xa0 Don't you think the name Larry Sinclair should be included in your internet 'whispering' campaign?\"\n",
      "\"You sir are not intelligent\"\n",
      "\"Hey moron \"William Reynolds\", impeach YOURSELF and then go kiss a Muslim like your hero Bush.\"\n",
      "\"I would slap you silly but clearly you are already there.\"\n",
      "\"@Enundr\\xa0lol.....You sir, are a jackass. wipe the tears from your eyes and move on. Mass Effect sucks.\"\n",
      "\"Get I life u bitch!!!\\navande ammede oru lekhanam...\"\n",
      "\"YOU STUPID SHIT! STOP SPAMMING! DELETE HIS PROFILE!!!\"\n",
      "\"The difference between your wife and a rooster HoldYourOwn? The rooster says cock-a-doodle doo, your mama says any-cock'll do.\"\n",
      "\"You are an arrogant bitch and what is wrong with \\xa0the World today, mostly caused by you pond life bankers!!!!!\"\n",
      "\"Another worhless post from a worthless person.\"\n",
      "\"you're right; there weren't enough toothpick hangovers and tailwhips... Go fuck yourself\"\n",
      "\"Jeff Bootstraps Fisher\\n\\n\\nis a troll.\\n\\n\\nanyone feel free to add to what you think of him.\"\n",
      "\"\\\\xc2\\\\xa0Stop suxing dik for cigarette money hole\"\n",
      "\"Shows how much of a dumb-ass you are. Today she used The Globe as a source hahahahahahahahahaaaaa\"\n",
      "\"Liberals don't want military intervention, you buffoon.\"\n",
      "\"you should get banned....you are a little bit psycho\"\n",
      "\"LMAO.. You are another clueless moron....only liberal women are kept..they have the masters..\"\n",
      "\"K_K_K or Nazi? I can't tell which disease you suffer from? Could you please blog some more?\"\n",
      "\"Your mom is a mean hoe charging 200 for 15 dollar pussy.\"\n",
      "\"Steve you are proof that agism lives, and that there is really no age range for dumb ignoramus.\\xa0\\xa0 LOL\"\n",
      "\"Phil: You ignorant impolite, rude slut. Go F**K Yourself.\\xa0 Exercising freedom of expression, which you apparent;y are against unless it concurs with your outdated view of the world.\"\n",
      "\"Sounds like you're a scummy family.\"\n",
      "\"Notheism:\\xa0 Are you serious? How can you say this is \"revenge\".\\xa0 The rapist was caught in the ACT.\\xa0 I understand your ignorance, but for god sakes, pick up a dictionary.\"\n",
      "\"Fuck you.\"\n",
      "\"Go away you orrible little cretin\"\n",
      "\"LOL And you eat hot dogs (cow rectums).  LOL\"\n",
      "\"What are you guys smoking?\"\n",
      "\"_yeah_i_bet_you're_a_occupy_fucking_nigger!\"\n",
      "\"Why is it that you don't kill yourself you stupid fascist puppet?\"\n",
      "\"Get the fuck out of my comment section you samurai jack lookin muthafucka.\"\n",
      "\"you are a asshole for putting addicts down!!! why bash us!!! at least we have an excuse wats urz jackass!!!!!!!!!!!\"\n",
      "\"A couple of greedy, non-appreciative hos!\"\n",
      "\"Go to hell you old bastard\"\n",
      "\"It was his idiot parents, idiot.\"\n",
      "\"ah, the same way you hate white people. Don't try to act so innoccent.\"\n",
      "\"you is shit\"\n",
      "\"You were born a bald-headed freak.\"\n",
      "\"Rob...you're one pathetic asshole...and \"libs\" aren't responsible for that.\"\n",
      "\"Go away, Flora. \\xa0Take your spam with you. \\xa0And if you MUST comment, then\\n\\ndon't steal words from other posts.\\n\\nSPAM ALERT \\xa0 Flag her post.\"\n",
      "\"You are a sad, ignorant, pitiable fuck.\\n\\nI take that back.  You're not worthy of pity.\"\n",
      "\"That guy is a real fuckstick.\"\n",
      "\"Really, you do a\\xa0one time 100K fund raiser and your comparing it to skipit55....... are you really that stupid.....\\xa0 Do the math!\\xa0 What a moron, your so proud of yourself: \"Did they do that?\".\\xa0 Yes and they still are adding to it.\"\n",
      "\"You are a piece of shit mr e=mc2!!\\xa0\\xa0 I hope you get shot in the face next time you and your fellow gang members break into someone else house.\\xa0 SCUMBAG!!!\"\n",
      "\"You are such a creep.\\xa0 Go back to cooking.\"\n",
      "\"jay is a bitch w no clue fuck that weak nigga. he probably got slept like that before\"\n",
      "\"Shut the fuck up you ignorant troll\"\n",
      "\"bitch stfu u fuckin clown\\\\n\"\n",
      "\"\"You are racist.\"\\n\\nJamele Hill\"\n",
      "\"coming on here to hate? get a fucking life this is straight fire you dont like it your a pussy\"\n",
      "\"Its kind of frightening knowing dbags like you exist.\"\n",
      "\"fuck you all to hell\"\n",
      "\"You need to shut your pie hole and go away. You suck.\"\n",
      "\"god, get rid of the shitty tattoos and piercings, another decent girl ruined !\\n\\nand she's not even from LA and got it tatted lol what a fuckin loser !\"\n",
      "\"Hey idiot, your caps lock is ON\"\n",
      "\"Welcome to the crowd fellow idiot.\"\n",
      "\"atm55....your words are those truly of an ignorant person\"\n",
      "\"The name jacker is such an idiot\"\n",
      "\"more like he turn yo ass into a carnival ride, you already look like you take dick in the ass in that homo ass picture of yours.\"\n",
      "\"ANYBODY AND I MEAN ANY MOTHERFUCKER WHO CONFUSES BILL PULLMAN WITH BILL PAXTON IS A FUCKING IMBECILE BENEATH CONTEMPT\"\n",
      "\"you are sickening and pathetic !!!!!!!!!!!!!!\"\n",
      "\"Your are an idiot\"\n",
      "\"Hows your mom's basement doing?\"\n",
      "\"and you arent as much of a loser as them? \\ni say you are just about worse\"\n",
      "\"Damn it Nicole, fuck it up for us, just once. Please?\"\n",
      "\"Smacked by who? You coonass boys sure are corny.\"\n",
      "\"Oh bore off you Stupid twat !\"\n",
      "\"Not sure if you are joking or just dumb/have no knowledge in comics.\"\n",
      "\"Uh Guest, using \"uh\" doesn't make you sound intelligent or superior. it makes you sound like the moron you always prove yourself to be. In your case you should spell it \"duh.\"\"\n",
      "\"No she is not a toad but you are a libturd!\"\n",
      "\"Captain, You need to quit standing on your head, You are have a cranial recital inversion problem, You have inserted your cranium so far you your recital cavity you are seeing everything upside down.\\\\n\"\n",
      "\"Yes my filthy little lefty troll....both you and barry have just proven my point!\"\n",
      "\"None of that has to do with class\\nListen to Serena--classless--horrible human being\\nNadal does give his opponent credit--unlike Serena.\"\n",
      "\"Please don't you are an idiot\"\n",
      "\"oh, you got your information from the Fox news network or from some idiotic right-wing tea bagger blogger! They always distort the truth. get a life and stop blaming the president b/c you are a loser in life...\"\n",
      "\"Die you bloated sack of cow shit\"\n",
      "\"You are a born m o r o n.\"\n",
      "\"Then don't watch it loser.\"\n",
      "\"That's because you're all morons.\"\n",
      "\"grrrrrrrrrrrrrrrrrrrrrrrrrrrrrrrrrrrrrrrrrrrrrrrrrrrrrrrrrrrrrrrrrrrrrrrrrrrr i hate that motherfuck her dad need\\xa0 to be burned at stake\"\n",
      "\"Gee whiz ryan is your dik that small? Maybe you should invest in some of that dik extender instead of a new computer. You are nothing but a keyboard warrior.\"\n",
      "\"Yeah, and you're a fuckingterrorist supporting skumbag. Fuckingloser!\"\n",
      "\"And you are the one who daily licks it out.\"\n",
      "\"Go suck gay boy Brocks filthy-cock.\"\n",
      "\"Im talking present you moron lol.\"\n",
      "\"Apparently so are you, idiot.\"\n",
      "\"<STRONG><A>YOU ARE A MEAN SPIRITED AZZHOLE.  POSTERS HAVE ASKED YOU TO STOP THIS!!!!  NO WONDER EVERYONE ON THIS BLOG HATES YOU!\"\n",
      "\"If I could find you..the correct term for your filty-h0m0 life would become....extinct.\"\n",
      "\"you are retarded\"\n",
      "\"@FUCK:disqus\\xa0YOU CNN FAGGOTS.\"\n",
      "\"Or a flaming queen like Gheyrooster!\"\n",
      "\"fuck off, fucking pathetic bitch, too much to say for yourself.google it.\"\n",
      "\"Decapitate? \\xa0The helmet hit him in the ass...where \"your\" head is!\"\n",
      "\"You`re a sad excuse for a human being.\"\n",
      "\"Your pussy. Stop hitting woman and fight me bitch ass nigga\"\n",
      "\"Don't forget to add that she inspired a troll such as yourself to chime in.... now go back under your bridge and behave yourself.\"\n",
      "\"No one on the left wast's an all encompassing government, you idiot.\"\n",
      "\"Bitch you digraced the whole nation.. Now wait for the whole Pakistan to bombard you with their precious comments! Fuckin FRAUD!\"\n",
      "\"They can buy and they can apply for residency just like any other person. So shut up you ignorant fool.\"\n",
      "\"Yea because I waste my time\\xa0documenting\\xa0your lunacy. Sorry dikhead we all know you and what you post. Unlike you we don't suffer from ADD\"\n",
      "\"he weak ass fuck\"\n",
      "\"O.o some of you fucks who post in this board are retarded. The Waste are fucking awesome! And that show was sick! Fucking internet troll pricks.\"\n",
      "\"LOL!!!! Read the ENTIRE paper REIDtard. Typical poorly educated LIBIDIOT.\"\n",
      "\"and you are a MORON.\"\n",
      "\"you truely are a dumb*** hilly i never said it was great i said #8 all time your just stupid aint you.\"\n",
      "\"schoolswot\\n\\nNo its just smug idiot left wing hypocrites that I despise. It is just unfortunate that there are so many of you about.\"\n",
      "\"oh god!!!  grow up you sad little loser!!!!\"\n",
      "\"so its sad you idiot.  Ray is one of the best pure shooters... so dumb\"\n",
      "\"No, ike i said earlier, Sir you are an A S S\"\n",
      "\"it's fucking fake drama queen!\"\n",
      "\"who da fuk are you calling adumbas pussy.... you'r probully a negro with big ass lips and a big ass nose.\"\n",
      "\"STFU you ignorant communist puke..\"\n",
      "\"Nnamdi chuwkwu you are \\xa0nothing but dick sucker i wish i'm BOKO.. i will bomb your generation.. .you need to relocate to ZOO\"\n",
      "\"yes, but now you are just a moron!\"\n",
      "\"That girl kinda look cock eye'd but its ok I'd fuck her till that shit turnt straight\"\n",
      "\"Stick it up your ass-faggot. \\n\\nyou get another FLAG!!!!!\"\n",
      "\"Your Teabilly slutchild is just as ignorant as her mother.\\nYou people are the trailer trash of America.\"\n",
      "\"While your syntax is fine, your spelling is drug-addled.\"\n",
      "\"dick face u would do shit fake ass \"\n",
      "\"haha fuck you bitch your a fukn cripled cunt fuck you motherfucker stay off this page unless you want to die bitch!!!\"\n",
      "\"Double retard for you.\"\n",
      "\"If they don't see your ugly face they're lucky. Turd sucker.\"\n",
      "\"true intellect aren't you!! Tebow isn't unemployed, you really are a pathetic idiot\"\n",
      "\"No matter how hard you try, your_nasty existance is still not normal.\"\n",
      "\"you sound like rain man.\"\n",
      "\"If it proves anything, it proves that you are not an idiot.\"\n",
      "\"do the research, I'll bet you don't know jacksquat about obies past.\"\n",
      "\"Lick it clean, turd-breath.\"\n",
      "\"What a smug basket you are.\"\n",
      "\"Peter,\\nYou are quite the idiot.\\xa0 Are you really this clueless or are you foolishly letting your liberal bias dictate your writings?\"\n",
      "\"All I see in these comments is niggas bitching more then biggest bitches i know..\"\n",
      "\"Were you born stupid or did you have to work at it??\"\n",
      "\"Keep telling yourself that, you dumb tea maggot.\\xa0 The only true racists left are turds like you and your worthless tea maggot friends.\"\n",
      "\"May you and your children get the same \"deserved\" treatment and end up rotting in the ground.\"\n",
      "\"There you go again telling LIES you are a LAFFS FAN\\xa0\\xa0\\xa0\\xa0 IDIOT and fooling yourself only BIRD BRAIN\"\n",
      "\"You mean like stealing identity such as you are now? Not hardly troll! FLAGGED FOR FAKE SHITT!\"\n",
      "\"it means you are stupider than average, unable to punch your way out of a wet paper bag. \\xa0But at least you have bragging rights to bully others around with your insane liberal concepts.\"\n",
      "\"hatethehype you are an idiot. Neil was joking.\"\n",
      "\"don't worry bitch. I no more read this shit. Now just shut the fu.ck up\"\n",
      "\"You don't seem to get what I am trying to say, so good day. I'm sick of you\\xa0arguing\\xa0with anything that you disagree with. I'm not going to be pulled into your stupid\\xa0arguments.\"\n",
      "\"dont worry how i sound u bitch made faggot ass nigga\"\n",
      "\"I bet it took awhile for this guy to extract his foot from his mouth.\"\n",
      "\"What a dumbgeister it is F for FAILURE all your distorted life if lies\"\n",
      "\"White men like to rape little boys\"\n",
      "\"fake pic u hoe ass nigga!\"\n",
      "\"wife you are a vile racist bigot !!\"\n",
      "\"Really? Police wouldn't use tear gas on a white man wanted for 3 counts of capital murder? You are such a fool.\"\n",
      "\"burr-headed, purple lipped Kenyan?????\\xa0 are you a human or a right wing asshole.\\xa0 go back under your bridge.\"\n",
      "\"Guess what? No one gives a fuck about you. Get off SNSD articles.\"\n",
      "\"LIZZARONNA\\xa0\\nNot only does your ignorance shine through per your ignorant comments , but you can't spell or form a sentence , pathetic loser !\"\n",
      "\"You are a lying son of a bitch. \\xa0Let's see you post some facts supporting your assertion.\"\n",
      "\"YOU SHUT YOUR WHORE MOUTH! YOU SHUT IT RIGHT NOW! YOU'RE GIVING HIM IDEAS, GODDAMMIT!\"\n",
      "\"BACK OFF HATER'Z!\\nJUST LEAVE THEM ALONE CUZ ITS NONE OF YOUR BUSSINESS BITCHES:)\\n\\nJUST IGNORE THEM OLSEN:):):);0:)\"\n",
      "\"yup gang of little nigglet thugs\"\n",
      "\"Leave it to a moron to dump smoldering embers into a trash bin next to a house\"\n",
      "\"You either know that is a lie or you have not checked.\"\n",
      "\"Go and tell him to fuck himself, the twat\"\n",
      "\"I just checked and there are many races mixed in Spain. If she called herself Hispanic, then she has that in her blood. You are so arrogant of an online troll that you THINK you know about people you can't possibly know about. It's sickening.\"\n",
      "\"That was the fuck of that lil cunts life ..goood job! !\"\n",
      "\"Are you proud of your trolls?\"\n",
      "\"You are the disgusting one.\"\n",
      "\"What they would've edited it to say?\\n\\nYou really love showing how ignorant and blatantly brainwashed you are don't you? Covgrats, now we all know how much of a loser you are, fstaff.\"\n",
      "\"You're a fu cking idiot.\\xa0 You don't even know what the word 'smart' means.\"\n",
      "\"Why did they interview you?\\r\\n\\r\\nDid you commit suicide?\"\n",
      "\"You talked to grade school kids with strong opinions on Bill Maher today?\\n\\nYou're a f ucking liar.\"\n",
      "\"you're not stupid, just dumb\"\n",
      "\"The child molester calling someone a racist, too funny! And then you make a gay slur, hilarious!\"\n",
      "\"You are a traitor.\"\n",
      "\"And what happens when a bunch of religious fanatics defend a pedophile?\\xa0 Gee, sounds like the Catholic church!\\xa0 You are a disgusting piece of work.\"\n",
      "\"If you think it's is so insignificant, why are you spending time commenting, unless you are a troll and can't help yourself. Get a life.\"\n",
      "\"go fuck yourself.\"\n",
      "\"Ha ha, Anthony is idiot. \\xa0He thinks he knows basketball but is too dumb to know he is dumb.\"\n",
      "\"Thank You! You just proved to everyone here that you possess an IQ of no higher than 20.\"\n",
      "\"Jerome the fruit.. the worlds STILL isn't going to accept you and your sodomite father doing each other to unconsciousness.. get over it\"\n",
      "\"Still proclaiming your stupidity\"\n",
      "\"Ah. \\xa0You're one of *those* guys (self-flagellating\\xa0alt-tech guy).\"\n",
      "\"Yet here you are, day after day, supporting the paper by clicking on links and making comments, increasing site traffic.\\n\\nYou just cant cure stupid.\"\n",
      "\"WTF are you talking about? & more important shit? like taking time out of your life to comment on me calling another nigga ugly? Hmm yeah your still in middle school.\"\n",
      "\"I'm no liberal you cocksucker, just not so stupid a fucker as to shoot a kid going for candy... You're a puzzy that is scared of shadows.\"\n",
      "\"If its so lame why did you read this or for that matter search this topic maybe you should think a little more before you make yourself look like a fucking hippocrate.\"\n",
      "\"you are an ignorant piece of sh#t.\"\n",
      "\"I am not \"dude\"....you moron! Go back to your mothers\"\n",
      "\"Are you guys fucking retarded ? you're trying to take pictures of these girls ?! you guys are worse than the scum of the earth\"\n",
      "\"What's funny as hell is Rooster and you being married, retard.\"\n",
      "\"Would it make ya feel any better if he was molesting girls? You're really dumb, but you're dumb by choice. You choose to ignore everyone telling you facts, but you choose to be dumb.\"\n",
      "\"you are a fool\"\n",
      "\"sorry are you lost little boy the men are talking please take your whineing else were\\xa0and notice how no body sad anything about cod\"\n",
      "\"Taxing people at different levels is not redistribution of wealth you fucking retard.\\xa0 That's like saying a fat person is redistributing fat by eating more.\"\n",
      "\"Stop wasting our air you idiot.\"\n",
      "\"I am going to hate all over this page because Im homophobic..... FUCK OFF LESBIAN GOOD THING THAT BITCH DIED ONE LESS LESBO IN THE WORK\"\n",
      "\"DO YOUR JOB IN HATE LOSER\"\n",
      "\"Crawl back under your bridge you miserable pathetic troll.\"\n",
      "\"ponyfags fuck off\"\n",
      "\"You are completely clueless.\"\n",
      "\"You can get treatment for your dillusional inferiority complex, you sad little troll.\"\n",
      "\"Damnit GW, don't be such a pussy. You liked the white you should have stuck with the white.\"\n",
      "\"No you are just stupid.\"\n",
      "\"You are a\\xa0 really well-rounded idiot, aren't you?\"\n",
      "\"Yuck imagine knowing a total fucking douche like you!  Your mom should have swallowed dude!  She did this world an injustice!\"\n",
      "\"Ok now your getting silly, which is not a surprise coming from liberals like you\"\n",
      "\"I'd rather see you getting lynched!\"\n",
      "\"I bet you take monstrous shits.\"\n",
      "\"You are despicable and disgusting.\"\n",
      "\"And he helped to remove\\xa0Mubarak by??????????? \\xa0Oh I forgot, he was demonstrating in Cairo all those nights back in 2010. \\xa0You are so blinded by your own political stupidity.\"\n",
      "\"You're reaching.  I am a proud American.  You're still an idiot.\"\n",
      "\"u are a sick moron\"\n",
      "\"You are the fake.\"\n",
      "\"So you are a serbian traditionalist retard?\\n\\nWhat about serbian mafia, like Zemun clan and Arkan?\\n\\nYou hypocrisy is laughable.\"\n",
      "\"mrbreeze68: that marks you a dumb Arab.\"\n",
      "\"Makes you a filthy nasty poor trash racist loser.\"\n",
      "\"Some village is missing their idiot.\"\n",
      "\"THIS FAGGOT WILL FLOP\"\n",
      "\"why don't your wife blow all off\\\\xc2\\\\xa0the liberals for a quarter each and donate the money,,,????\"\n",
      "\"i think both of you need to grow up and stop arguing over a fuckin computer all day and do something with your lives like maybe go outside for a change or get out of your moms basement and find a job. :D\"\n",
      "\"you're clearly retarded.\"\n",
      "\"Your dumb.\"\n",
      "\"@cnn-fcbba858f167b1594a66777bca:disqus \\n\\nYou've got \"islamic apologist\" written all over your face. These people were poisoned, plain and simple.\"\n",
      "\"That's not funny,,,whats funny would be your family watching you DIE of A $$ cancer, ha haa haaa\"\n",
      "\"cockneywideboy\\n\\nSo your the obese twat taking up all the pavement...get a diet going and come back when you're cockneyslimboy.\"\n",
      "\"You are a typical one liner Fu&^tard troll.\"\n",
      "\"You're not the world's best debater.\"\n",
      "\"you p%nk a##  chump i will knock your block off you internet coward . ny bamma!!!!!!!!\"\n",
      "\"When you are\\xa0 s u c k i n g\\xa0 Odumbo's\\xa0 d i c k, do you swallow?\"\n",
      "\"So are you. Oh wait, sorry, you're just an idiot. God has no sympathy for you. Sorry you were born stupid. Take care!\"\n",
      "\"No!\\xa0 You are an idiot!!\"\n",
      "\"....Wade....You are a pathetic piece of former star CRAP\"\n",
      "\"FUCK YOU.\"\n",
      "\"NO WHITE PERSON WHO WAS NOT RACIST WOULD E V E R CALL THEIR FRIEND THAT. YOU ARE A BUNCH OF COONS. HER AND HER WHITE FRIENDS HAD A REALLY GOOD LAUGH!\"\n",
      "\"i defended lana every time  someone said bad things about her, now i dont know what to think, lana is a bitch and a whore\"\n",
      "\"More idiots posting on a subject they nothing about.\"\n",
      "\"you are an idiot pbgallag. it has been a rough 2012 for halladay. but with the career he has had to say he sucks is ignorant and reflects more on your lack of intelligence.\"\n",
      "\"do you know who I AM? FU YOU 30 ROCKSUCKER\"\n",
      "\"you sound like an ignorant dickhead.\"\n",
      "\"You are an evil despicable animal, and I'm sure eventually you'll get yours. God has a special plan for vile creatures like you.\"\n",
      "\"fucking idiot!\"\n",
      "\"Youre fucking retarded\"\n",
      "\"You are a moron son.. Come on be a man and call it like it is..\"\n",
      "\"LOL\\xa0 Look at the brain\\n\\tdamage. Momma drink when she was pregnant?\"\n",
      "\"you're an idiot\"\n",
      "\"you know you love when i give details like when you suck my cock and i say 'oh swallow me while i finger your asshole'\"\n",
      "\"Still here? \\xa0You love getting smacked around ,huh? \\xa0You just keep coming back for more.\"\n",
      "\"and you're fucking Pinterest up! It used to be so cool and friendly before people like you found a way to abuse it.\"\n",
      "\"why are you still here then????....SIMPLETONS like you are anything but refreshing...\"\n",
      "\"You are not one of us. Fuck off fag\"\n",
      "\"Nope, I have a brain.. unlike you\"\n",
      "\"how many times do i have to tell u retards. i dont live in the uk. it was 2pm when i commented u utter bellend.\"\n",
      "\"I suppose it's just to give retards like you something to do.\"\n",
      "\"Let me rephrase my initial comment about you and your post;\\nPathetic little boy.\"\n",
      "\"Thanx for the fake address. Knew you were a bltch. Go tell your mom to bring you some cookies.\"\n",
      "\"We are not talking about INCEST here you fool.....use your common sense when making an irrational statement that you claim is rational!\"\n",
      "\"You sir/madam, are a d*ck.\"\n",
      "\"I wanna skull fuck both of you.right.now that is after i blow ur brains out with my shotgun in a horrid mess you low life fuckin imbiciles\"\n",
      "\"Reported, you redneck coward.\"\n",
      "\"Go away libTURD, your kind just can't stand that the man told the truth, something you would never understand! \"\n",
      "\"Are you asking because your Mom wants to sell your anus to her crack dealer?\"\n",
      "\"And you really believe SHE PAID for that car? Really??? Damn, you dumb! LMAO!!!\"\n",
      "\"S T F U and pay your dues\"\n",
      "\"Awww....it's ok, your mummy gave you up because you were a hideously ugly and stupid child.\"\n",
      "\"Linux Torvalds: \"NVIDIA, FUCK YOU !\" \\nthis will remain in history, if Linus said it then Nvidia deserves it\"\n",
      "\"You stupid racist motherfucker! I bet you'd never say that to a black man or woman't face would you?\"\n",
      "\"You wicked shit, you have the mitigated gall to call the Lord's name in your filthy beer smelling mouth.\"\n",
      "\"Really! Understand this. I'd tell you to go fuck yourself, but you have  your head shoved so far up your ass, theres no room for your shriveled  dick.\"\n",
      "\"shut up faggot face faggot lol\"\n",
      "\"oh just shut your shitty mouth stinky queen!go clean your toilets!\"\n",
      "\"Fat, like you Kurt?\"\n",
      "\"Your name isn't Richard its \"Dick\".\\xa0 See me funny.\\xa0 Loser.\\xa0 Now go get a job. Dumbass.\\xa0 No need to reply while mommy is wiping your ass.\\xa0 Wow this is fun. haha.\"\n",
      "\"Your comment exposes you as iliterate and a\\xa0fool\"\n",
      "\"you are a stupid writer!!!\"\n",
      "\"You realize everytime you take a crap, you are polluting.\"\n",
      "\"What a pathetic little man you are.\"\n",
      "\"OVER promoted idiot \\xa0- get your facts right!\"\n",
      "\"typical Muslim, what do you expect from him?\"\n",
      "\"Think if a little man like PAC makes floyd run for his life,I wonder what he will do if he did have to fight S.R.R  He would pull an OJ in a bronco with the gu.n to his pointed head\"\n",
      "\"not funny jack@$$. you are a total db! friggin moron.\"\n",
      "\"@RN506:disqus Read through the comments on this thread and you're the definition of a dick rider. I bet you have a poster of 50 in your room.\"\n",
      "\"_go_eat_your_dog_you_pos_libtard\"\n",
      "\"Excellent command of the English language! Once again I want to commend you ni@@ers on your \"skillz\".\"\n",
      "\"The fuck is wrong with you?!? You are so fucked up how can you say that!\"\n",
      "\"Hmm pointless lives.....\\xa0 yup, Elitist Pig you are....\"\n",
      "\"why dont you just eatshitanddie? you are not wanted here, now run along skippy.\"\n",
      "\"Floyd, you are a coward, plain and simple.\\n\\nThat is all.\"\n",
      "\"You can't sing, and you can't pray but you can wahoo it up over gay rape..just plain fuck liberals..all of them..and knock the dog shit out of them first if you are so inclineds.\"\n",
      "\"Absolutely moronic and unable to see the just motivation for legislation.\\n\\nDrink driving is a crime, not drinking alcohol. Why can you not comprehend that? Are you really that fucking stupid?\"\n",
      "\"Quit..fucking..with my trolling..douche\"\n",
      "\"Wow, you really shouldn't suck your daddy's dick with that mouth.\"\n",
      "\"It would only be news to you if it were reversed.  We get it now and get it with your every post.  You are a liberal puke that champions every liberal cause.  Got it glea.\"\n",
      "\"You're a turd Neil and will always be one.\\xa0 Picking on a rookie...yeah big tough guy.\\xa0 No worries....you'll get yours one day.....loser.\"\n",
      "\"How is defending your child vigilante justice?\\n\\nWhy are you defending a child rapist?\\xa0 Are you a closet pedo?\"\n",
      "\"Eat shit and die Andrew\"\n",
      "\"you're\\xa0clearly a nigger ^^\"\n",
      "\"In the north, social service would take away her brother. Stupid!\"\n",
      "\"all you do is sit on this site and hate on every successful artist. You are the epitome of a crab you broke muther fucker! Dumb bitch\"\n",
      "\"do you have any proof that Romney stole anything? Or are you just a stupid libtard troll?\"\n",
      "\"Tell me how the bridge can be fixed. \\xa0Oh, you can't. \\xa0Get off your soapbox, retard.\"\n",
      "\"you are soooo dumb!\"\n",
      "\"Where's all the Ron Paul trolls, to defend this\\xa0piece of shit?\"\n",
      "\"You are a COMPLETE idiot...not even a partial.\"\n",
      "\"da fuck this nigga talkin bout? everything this hoe was doing was turning me on......this nigga gay\"\n",
      "\"@bizora2:disqus you are a pathetic nobody.\"\n",
      "\"make your mother stop spreading Herpes\"\n",
      "\"Straight douche, wish it was you, you worthless, racist, coward piece of shit\"\n",
      "\"you're an idiot\"\n",
      "\"Why would I want to meet you?\\xa0 You have absolutely no redeeming qualities based on your delusional posts.\"\n",
      "\"#nWo4Life\\n#FuckTrolls\"\n",
      "\"All I have to say to you Bay is: Fuck you!\"\n",
      "\"We will bury you in November, parasites.\"\n",
      "\"by the way, Leidiot is a jerk.\"\n",
      "\"Because you are an idiot jpcali.\"\n",
      "\"Papo_Swing, go to hell with that little weasel dick Carlson. In other words, fuck you, your mother and every one of your inbred relatives.\"\n",
      "\"Hey DeNiro go fok yourself u WOP.\"\n",
      "\"Ignorant, ignorant, ignorant...piece of crap - so is his mother - how dare you defend / blame this behavior!!!Shame on you and the devil you spawned...\"\n",
      "\"Wow, you really are a fooI.\"\n",
      "\"You like whore.\"\n",
      "\"* HAHA TRANNY ???? *\\n\\xa0\\xa0COME HARDER NEXT TIME CUZ YOU MAD LAME !!!\\n\\xa0\\xa0FUCK OUTTA HERE WITH YOU'RE UGLY ASS !!!!\"\n",
      "\"Idiotic.\\xa0 Beyond idiotic, actually.\\xa0 You must LIKE being a loser.\"\n",
      "\"You sir are a complete idiot\"\n",
      "\"You shut your filthy mouth talking about LAs premier team like that. <br>\"\n",
      "\"You're an idiot. We should be sued for all the shit we've done in the MidEast. If we're not bombing, droning, starting wars, we're fucking funding them.\"\n",
      "\"You, sir, are an idiot\"\n",
      "\"your still a commie basturd, and i hope you get stuffed in a commie oven.\"\n",
      "\"Thereisnoreason to pat L4C on the back, she's as dumb as you are.\"\n",
      "\"really - what planet are you on?\"\n",
      "\"hey Kraut piss off and go to bed...you are getting old and boring\"\n",
      "\"...yeah CO Mmj patient is a fuck-tard, one of the 3 shops my ass..\"\n",
      "\"Actually just got told to get to my bed. Fuck off Jackie ya old cow.\"\n",
      "\"You conceited little invertebrate. Hopefully you pass on that decrepit arrogance to the children you won't have, you bag of maggot scum.\"\n",
      "\"The hospital has confirmed that he had a seizure.  No alcohol or drugs involved.  Now I suppose by your thinking, the hospital is lying, afterall they are all communists or Nazis.  You sound like a fool.\"\n",
      "\"You lefty loons are so dumb, you don't realize just how dumb you are. You idiots must have taken Gibberish 101 in kindergarten, and you all\\xa0passed with flying colors!\"\n",
      "\"Just too freakin' funny... You are so stupid... Talk about gullible...\"\n",
      "\"you get the ridicule because you're a fuk'n POS pr1ck\\n\\n\\nlittle troll\"\n",
      "\"...Or not nigga! Put that shit away. take your ass home and flush that shit.\"\n",
      "\"Funny that you are defending a murderer - d**kless idiot defending a d**kless idiot.\"\n",
      "\"gawd you're f*cking pathetic, how sick is your life to be so hateful?\"\n",
      "\"Maybe you are the braindead moron, religious bigot.\"\n",
      "\"The pills are your little technicolor friends. They stop the voices in your head.\"\n",
      "\"Don't keep Nag waiting.\\xa0 It's hard on his knees.\\xa0 'Twisted'.\\xa0 Tonight.\\xa0 Bromance.\"\n",
      "\"GAY FAGGOT NERD FUCKERS \\r\\nTROLOLOLOLOLOLOLOLOLOLOLOLOLLOLOOLOLOLOLOLLLOLLLLOLOLOLOLOLOLOLOL\"\n",
      "\"your ego makes you less qualified.\"\n",
      "\"fat lip monkeys get shot???and how r u smarter then blacks because u have a rice dick and suck noddles all day dont make u smart\"\n",
      "\"CLOSE YOUR MOUTH CHIMP\"\n",
      "\"Haney you suck as a painter...keep your day job...wait you suck at that too\"\n",
      "\"GAY FAGGOT NERD FUCKERS \\r\\nTROLOLOLOLOLOLOLOLOLOLOLOLOLLOLOOLOLOLOLOLLLOLLLLOLOLOLOLOLOLOLOL\"\n",
      "\"no your not dickhead.\\nI WON THIS FIGHT!\"\n",
      "\"And your an idiot.\"\n",
      "\"you are soooo inteligent white girl. Tell us black people more about ourselves. Im sure u know more about us then we do\"\n",
      "\"You are clearly stupid, that is what he meant you thumb.\"\n",
      "\"Proof positive that you are idi0t\"\n",
      "\"Another big tale coming from someone that has no ideal what in hell he is talking about.\"\n",
      "\"P.S. And drop that loser Suzy.\\xa0 You are a LOSER and a trouble maker.\\xa0 Exit stage left, and go get a job.\\xa0 It is a RAP!!!!!\"\n",
      "\"Looks like the\\xa0dipshat left the building.\\xa0 What a joke.\\xa0 Go back to where you came from Bob the slob.\"\n",
      "\"Morteza Hosseini, you're an idiot.\"\n",
      "\"go eat some ships and shut the fuck up .....you are nothing but a stupid\"\n",
      "\"You can't see it because you're a clueless idiot. Show me how he is helping the middle class you stupid Obama semen slurper\"\n",
      "\"never ratified?\\\\n\\\\nget the fuck out of here and go back to your silo.\"\n",
      "\"\"Papism\"?  How about \"Popery\"?  Aren't you late for your klavern meeting?  Sheets washed and starched?  Eyelits cut in the white hood?\"\n",
      "\"This website should have been named www.haterscentral.com because this website is full of people like you.\"\n",
      "\"Mane she stupid as fuck thinking everybody pose be nice to her fat out of shape ass they go hard at beyonce why would people not diss  her fat ass\"\n",
      "\"And nobody partially gives a fuck about you or your gaRbage state\"\n",
      "\"And what are you going to do tough guy?\"\n",
      "\"So in your perverted mind if someone posts something about Obama that is \"discredited\"  it is ok for you to post the unmitigated bullshit that you do?\\n\\nWHHHHHHHHAAAAAAAAAAAAAA HA HA HA\"\n",
      "\"you are an idiot and doubt very seriously you have ANY proof to back such a ridiculous statement\"\n",
      "\"I was just pointing out a fact as to why most SEC fanbases are borderline crazy.  It's all they have.  If that made you upset, get fu<v>cked you whiny little b<v>itch\"\n",
      "\"No you f u c k head!!!!!!!!!!!\"\n",
      "\"you are really stupid\"\n",
      "\"hahaha wtf? \"jesus christ\" you retard, don't embarrass yourself on the internet.\"\n",
      "\"suck your own dick you assfuck! you must die, you gay cock sucker! bullshit!!!!!!!!\"\n",
      "\"HAHAHAHAHA you can't handle the fact that I know you're a fraud.\"\n",
      "\"it's shit, I dont think my comment will get here. But its not free and comes with lots of crap you dont need. You M F\"\n",
      "\"You're a dim-wit.\"\n",
      "\"BITCH ASS NIGGA, WE KNOW YOU A COWARD, YOU SCARED TO PUT UP A PROFILE PIC! GET THE FUCK OUT HERE!\"\n",
      "\"You're a complete idiot!\"\n",
      "\"Last year, you're saying we ARE bankrupt, Understand grammar?\"\n",
      "\"Shut up, stupid. You said that NONE Of them do.\\n\\nThen you said the ones who do, do so to troll Westerners.\\n\\nNow you're changing your story again. You're truly an imbecile.\"\n",
      "\"You're the stuff of nightmares, moron\"\n",
      "\"is your hat white with a point? does it hide your face! And i don't need to learn from you, your mind is gone; sick\"\n",
      "\"you can't import from yourself.\\xa0 stupid.\"\n",
      "\"haha you don't own an iphone? man your fucking poor\"\n",
      "\"I SEE YOU ARE DETALINGING WHAT HAPPENED IN YOUR FAMILY, YOU FORGET THE PART WHERE YOUR FATHER ATE THE EBST PART OF YOU OFF YOUR MOTHERS AZZ_CRACK\"\n",
      "\"DG--You're really an asshole...I hope you don't have children.\"\n",
      "\"Otherwise quit acting like an internet tough guy who lives in his moms basement.\"\n",
      "\"Referred to \"them\" as f ing coons. I'd say that's pretty racist you little slut.\"\n",
      "\"Another loser comment.\\xa0 I'm am honored that everyone gets to see what an as%hole you really are.\\xa0 But I'm sure your co - workers at McDonald's already knew that.\"\n",
      "\"You are an azz Mejon!!!\"\n",
      "\"Loser maggot can't make any money because you have no talent.\\n\\nLive in squalor like you deserve.\"\n",
      "\"You want a smack on the back of your head punk?\"\n",
      "\"YOU SHUT YOUR FUCKlNG MOUTH YOU DlRTY WHORlNG DRUNK BlTCH\"\n",
      "\"Ever eat AIDS infected feces? Just eat your own and you will..\"\n",
      "\"Are you still around sicko? \\xa0You're the jackass who abandoned your best friend who came out as gay. \\xa0Nice.\"\n",
      "\"You should man-the-fuck-up and read the God-dammned books. Then whenever someone brings this shit up you can say \"well, I don't watch much TV, but in the <i>book</i>...\"\"\n",
      "\"You all suck, like hungry hookers.\"\n",
      "\"You are a fool and do not understand the flattening of the world.\"\n",
      "\"You racist bitch\"\n",
      "\"You really should get other news sources and get you face out of ther gay mags.\"\n",
      "\"Possibly to get your mother and father, you twisted freak!\"\n",
      "\"You people, as in \"moronic filth.\"\"\n",
      "\"All these evangelists are nothing more than money hustlers who take the weak of mind's money. \\n\\nI say if you are that stupid, you deserve to lose your money to them.\"\n",
      "\"Other? A virus isn't an organism you idiot. It's a particle. This is why we think you're stupid.\"\n",
      "\"OBFan.\\xa0 Why are you on this board??\\xa0 If you don't know that the Senate brings up the bill, AMENDS it and then votes on it, you really should be on the cartoon board not here.\\xa0 But do not feel bad, most people that support OB are just as dim as you are.\"\n",
      "\"accused but not charged or convicted. you libbies make me laugh. especially you dimwit. you are a copy and paste monkey.\"\n",
      "\"faggot\"\n",
      "\"You really should be like the other Lemmings and jump off a cliff.\"\n",
      "\"You're avatar is fail. Loser.\"\n",
      "\"JoelWeltman, you look like a pedophile from your picture. go get yourself incarcerated.\"\n",
      "\"you are both morons and that is never happening\"\n"
     ]
    }
   ],
   "source": [
    "predicted = pipeline.predict(insults_df[\"Comment\"])\n",
    "\n",
    "# Incorrectly classified\n",
    "false_positives = insults_df[(predicted == 1) & (insults_df['Insult'] == 0)]\n",
    "true_negatives = insults_df[(predicted == 0) & (insults_df['Insult'] == 1)]\n",
    "\n",
    "# To view each comment in its entirety (Pandas has a set col width)\n",
    "for comment in true_negatives['Comment']:\n",
    "    print(comment)"
   ]
  },
  {
   "cell_type": "markdown",
   "metadata": {
    "deletable": true,
    "editable": true
   },
   "source": [
    "## Lastly...\n",
    "\n",
    "[this blog post](http://webmining.olariu.org/my-first-kaggle-competition-and-how-i-ranked/) by a guy who used SVM, a \"neural network\", a ton of cleaning, then placed 3rd in a Kaggle competition featuing this same dataset. Also [this blog post](http://peekaboo-vision.blogspot.de/2012/09/recap-of-my-first-kaggle-competition.html) -- he got 6th place and found the best model was a simple Logistic Regression! Given that you used a few basic techniques with preprocessing text and Naive Bayes, what do think about the tradeoffs of simplicity vs complexity of your model?"
   ]
  }
 ],
 "metadata": {
  "anaconda-cloud": {},
  "kernelspec": {
   "display_name": "Python 2",
   "language": "python",
   "name": "python2"
  },
  "language_info": {
   "codemirror_mode": {
    "name": "ipython",
    "version": 2
   },
   "file_extension": ".py",
   "mimetype": "text/x-python",
   "name": "python",
   "nbconvert_exporter": "python",
   "pygments_lexer": "ipython2",
   "version": "2.7.13"
  }
 },
 "nbformat": 4,
 "nbformat_minor": 0
}
